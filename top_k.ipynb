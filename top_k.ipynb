{
 "cells": [
  {
   "cell_type": "code",
   "execution_count": 1,
   "metadata": {
    "collapsed": true
   },
   "outputs": [],
   "source": [
    "import os\n",
    "import surprise\n",
    "from surprise import Reader, Dataset\n",
    "\n",
    "file_path = os.path.expanduser('/Users/drakaris/Desktop/personalisation projects/personalization-theory-master/sampled_data.csv')\n",
    "reader = Reader(line_format='user item rating', sep=',')\n",
    "data = Dataset.load_from_file(file_path, reader=reader)\n",
    "data.split(n_folds=5) # data can now be used normally"
   ]
  },
  {
   "cell_type": "code",
   "execution_count": 5,
   "metadata": {},
   "outputs": [
    {
     "name": "stdout",
     "output_type": "stream",
     "text": [
      "3383\n",
      "2915\n",
      "2915\n"
     ]
    }
   ],
   "source": [
    "from surprise import SVD\n",
    "\n",
    "algo= SVD()\n",
    "predictions=[]\n",
    "for trainset, testset in data.folds():\n",
    "    algo.train(trainset)\n",
    "    predictions=predictions+testset \n",
    "\n",
    "i=0    \n",
    "\n",
    "print(len(predictions))\n",
    "useridlist=[]\n",
    "itemidlist=[]\n",
    "finallistofest=[]\n",
    "topfive=[[]  for i in range(2915)]\n",
    "\n",
    "x = [[] for i in range(3)]\n",
    "k=0\n",
    "for counter in range(0,len(predictions)):\n",
    "    userid=predictions[counter][0]\n",
    "    itemidlist=[]\n",
    "    #print(userid)\n",
    "    if userid not in useridlist:\n",
    "        useridlist.append(userid)\n",
    "        for thing in range (0,len(predictions)):\n",
    "            itemid=predictions[thing][1]\n",
    "            if itemid not in itemidlist:\n",
    "                i=i+1\n",
    "                #print(i)\n",
    "                #print(userid)\n",
    "                #print(itemid)\n",
    "                itemidlist.append(itemid)\n",
    "                finallistofest.append([algo.predict(userid, itemid).iid,algo.predict(userid, itemid).est])\n",
    "        finallistofest.sort(key=lambda x: x[1], reverse=True)\n",
    "        topfive[k]=finallistofest[:5]        \n",
    "        k=k+1        \n",
    "\n",
    "print(len(useridlist))\n",
    "print(len(topfive))\n",
    "            \n",
    "\n",
    "\n"
   ]
  },
  {
   "cell_type": "code",
   "execution_count": null,
   "metadata": {
    "collapsed": true
   },
   "outputs": [],
   "source": []
  },
  {
   "cell_type": "code",
   "execution_count": null,
   "metadata": {
    "collapsed": true
   },
   "outputs": [],
   "source": []
  }
 ],
 "metadata": {
  "kernelspec": {
   "display_name": "Python 2",
   "language": "python",
   "name": "python2"
  },
  "language_info": {
   "codemirror_mode": {
    "name": "ipython",
    "version": 2
   },
   "file_extension": ".py",
   "mimetype": "text/x-python",
   "name": "python",
   "nbconvert_exporter": "python",
   "pygments_lexer": "ipython2",
   "version": "2.7.13"
  }
 },
 "nbformat": 4,
 "nbformat_minor": 2
}
