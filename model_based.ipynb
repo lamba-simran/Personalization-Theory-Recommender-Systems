{
 "cells": [
  {
   "cell_type": "code",
   "execution_count": 122,
   "metadata": {},
   "outputs": [],
   "source": [
    "import os\n",
    "import surprise\n",
    "from surprise import Reader, Dataset\n",
    "\n",
    "file_path = os.path.expanduser('/Users/drakaris/Desktop/personalisation projects/personalization-theory-master/sampled_data.csv')\n",
    "reader = Reader(line_format='user item rating', sep=',')\n",
    "data = Dataset.load_from_file(file_path, reader=reader)\n",
    "data.split(n_folds=5) # data can now be used normally"
   ]
  },
  {
   "cell_type": "code",
   "execution_count": 123,
   "metadata": {},
   "outputs": [],
   "source": [
    "#Location = r'/Users/drakaris/Desktop/personalisation projects/personalization-theory-master/rating_matrix.csv'\n",
    "#df = pd.read_csv(Location)\n",
    "#reader = Reader(rating_scale=(0, 5))\n",
    "# The columns must correspond to user id, item id and ratings (in that order).\n",
    "#data = Dataset.load_from_df(df[[\"B00002R108\",\"B000035Y6D\",\"B00003OTI3\",\"B00004U4RF\",\"B00004U62A\",\"B00004Y57G\",\"B00005BISH\",\"B00005MA97\",\"B00006IJJG\",\"B000093NQG\",\"B00019AZBO\",\"B0002IBEFA\",\"B0006GBCZU\",\"B0007WOX4A\",\"B000E2D3LC\",\"B000FQBPDU\",\"B000HX1P72\",\"B000I5KW32\",\"B000M17AVO\",\"B000SQ5LPU\",\"B000WCQX2U\",\"B00140R0XK\",\"B0016BVY8O\",\"B001AZFSGK\",\"B001AZFSEC\",\"B001C6GVI6\",\"B001CXYMFS\",\"B001K7HV3Q\",\"B00242KDH2\",\"B0029LJIFG\",\"B002ASAGTA\",\"B002BRZ9G0\",\"B002BS47YE\",\"B002BSC54I\",\"B002BU0DPE\",\"B002C7RBFQ\",\"B002ELCUUG\",\"B002I092MM\",\"B002I08U20\",\"B002I0H1DY\",\"B002I0JAJ2\",\"B002I0J82G\",\"B002I0K3M0\",\"B002RWJQ5O\",\"B002V14VOC\",\"B0030T1UIY\",\"B00332F1VA\",\"B0037LTTRO\",\"B003B3V0MA\",\"B003ICGL7I\",\"B003JVKHEQ\",\"B003O3EFY2\",\"B003OPX802\",\"B003V63V1U\",\"B003WUZM4E\",\"B00432O4VM\",\"B0045ZB66I\",\"B0047THYWC\",\"B004FS8LYK\",\"B004FYEZMQ\",\"B004JMQLV2\",\"B004RMK57U\",\"B004YWSIOK\",\"B0050SWS8O\",\"B0050SVH18\",\"B0050SZ0JI\",\"B0050SZD18\",\"B0050SYAQ2\",\"B0050SZ836\",\"B0053B5RGI\",\"B0053BCMAC\",\"B005C2D2H4\",\"B005EQE0YM\",\"B005TMG0IU\",\"B006JEE05W\",\"B006P5RW3M\",\"B006WQR3OM\",\"B007FXFUFA\",\"B007SRM5U6\",\"B007XIJADU\",\"B007XVTR3K\",\"B007XVTR5S\",\"B007XXEG5C\",\"B007XYBUBE\",\"B0088MVPRY\",\"B008D7F0UC\",\"B008E6ZXA4\",\"B008OQTUKS\",\"B0098PLPOI\",\"B00A2Z50KI\",\"B00B29S1JK\",\"B00B67ZTUW\",\"B00BAWXD88\",\"B00BBF2TO8\",\"B00BMFIXOW\",\"B00CMQTVUA\",\"B00D7NQP9M\",\"B00F3FVLWI\",\"B00G0OYHCW\",\"B00GOOSTFE\",\"B00GSR47F8\"]], reader)\n",
    " # data can now be used normally"
   ]
  },
  {
   "cell_type": "code",
   "execution_count": 124,
   "metadata": {},
   "outputs": [
    {
     "name": "stdout",
     "output_type": "stream",
     "text": [
      "Evaluating RMSE, MAE of algorithm SVD.\n",
      "\n",
      "------------\n",
      "Fold 1\n",
      "RMSE: 1.1360\n",
      "MAE:  0.9063\n",
      "------------\n",
      "Fold 2\n",
      "RMSE: 1.1744\n",
      "MAE:  0.9110\n",
      "------------\n",
      "Fold 3\n",
      "RMSE: 1.2258\n",
      "MAE:  0.9578\n",
      "------------\n",
      "Fold 4\n",
      "RMSE: 1.2385\n",
      "MAE:  0.9297\n",
      "------------\n",
      "Fold 5\n",
      "RMSE: 1.1482\n",
      "MAE:  0.9062\n",
      "------------\n",
      "------------\n",
      "Mean RMSE: 1.1846\n",
      "Mean MAE : 0.9222\n",
      "------------\n",
      "------------\n",
      "defaultdict(<type 'list'>, {'mae': [0.90625124857774664, 0.91102372557766054, 0.95775153617503139, 0.92974391772627052, 0.90620599030757731], 'rmse': [1.1359666957453651, 1.1744013265389781, 1.2258230576174496, 1.2384789496220892, 1.1482185600217696]})\n"
     ]
    }
   ],
   "source": [
    "from surprise import SVD, evaluate\n",
    "algo = SVD()\n",
    "result_1 = evaluate(algo, data, measures=['RMSE', 'MAE'])\n",
    "print result_1"
   ]
  },
  {
   "cell_type": "code",
   "execution_count": 125,
   "metadata": {},
   "outputs": [
    {
     "name": "stdout",
     "output_type": "stream",
     "text": [
      "user: A1ISPS5HL554ZF item: B00B29S1JK r_ui = 3.00   est = 3.92   {u'was_impossible': False}\n"
     ]
    }
   ],
   "source": [
    "trainset = data.build_full_trainset()\n",
    "algo.train(trainset)\n",
    "userid = \"A1ISPS5HL554ZF\"\n",
    "itemid = \"B00B29S1JK\"\n",
    "actual_rating = 3\n",
    "print algo.predict(userid, itemid, 3)"
   ]
  },
  {
   "cell_type": "code",
   "execution_count": 126,
   "metadata": {},
   "outputs": [
    {
     "name": "stdout",
     "output_type": "stream",
     "text": [
      "Evaluating RMSE, MAE of algorithm SVDpp.\n",
      "\n",
      "------------\n",
      "Fold 1\n",
      "RMSE: 1.1421\n",
      "MAE:  0.9267\n",
      "------------\n",
      "Fold 2\n",
      "RMSE: 1.1690\n",
      "MAE:  0.9099\n",
      "------------\n",
      "Fold 3\n",
      "RMSE: 1.2420\n",
      "MAE:  0.9630\n",
      "------------\n",
      "Fold 4\n",
      "RMSE: 1.2483\n",
      "MAE:  0.9520\n",
      "------------\n",
      "Fold 5\n",
      "RMSE: 1.1547\n",
      "MAE:  0.9168\n",
      "------------\n",
      "------------\n",
      "Mean RMSE: 1.1912\n",
      "Mean MAE : 0.9337\n",
      "------------\n",
      "------------\n"
     ]
    }
   ],
   "source": [
    "from surprise import SVDpp, evaluate\n",
    "algo = SVDpp()\n",
    "result2 = evaluate(algo, data, measures=['RMSE', 'MAE'])\n",
    "\n"
   ]
  },
  {
   "cell_type": "code",
   "execution_count": 127,
   "metadata": {},
   "outputs": [
    {
     "name": "stdout",
     "output_type": "stream",
     "text": [
      "user: A1ISPS5HL554ZF item: B00B29S1JK r_ui = 3.00   est = 3.98   {u'was_impossible': False}\n"
     ]
    }
   ],
   "source": [
    "trainset = data.build_full_trainset()\n",
    "algo.train(trainset)\n",
    "userid = \"A1ISPS5HL554ZF\"\n",
    "itemid = \"B00B29S1JK\"\n",
    "actual_rating = 3\n",
    "print algo.predict(userid, itemid, 3)"
   ]
  },
  {
   "cell_type": "code",
   "execution_count": 128,
   "metadata": {},
   "outputs": [
    {
     "name": "stdout",
     "output_type": "stream",
     "text": [
      "Evaluating RMSE, MAE of algorithm NMF.\n",
      "\n",
      "------------\n",
      "Fold 1\n",
      "RMSE: 1.2739\n",
      "MAE:  1.0227\n",
      "------------\n",
      "Fold 2\n",
      "RMSE: 1.2991\n",
      "MAE:  1.0123\n",
      "------------\n",
      "Fold 3\n",
      "RMSE: 1.3158\n",
      "MAE:  1.0420\n",
      "------------\n",
      "Fold 4\n",
      "RMSE: 1.3798\n",
      "MAE:  1.0694\n",
      "------------\n",
      "Fold 5\n",
      "RMSE: 1.2396\n",
      "MAE:  0.9966\n",
      "------------\n",
      "------------\n",
      "Mean RMSE: 1.3016\n",
      "Mean MAE : 1.0286\n",
      "------------\n",
      "------------\n"
     ]
    }
   ],
   "source": [
    "from surprise import NMF, evaluate\n",
    "algo = NMF()\n",
    "result3=evaluate(algo, data, measures=['RMSE', 'MAE'])"
   ]
  },
  {
   "cell_type": "code",
   "execution_count": 129,
   "metadata": {},
   "outputs": [
    {
     "name": "stdout",
     "output_type": "stream",
     "text": [
      "user: A1ISPS5HL554ZF item: B00B29S1JK r_ui = 3.00   est = 2.97   {u'was_impossible': False}\n"
     ]
    }
   ],
   "source": [
    "trainset = data.build_full_trainset()\n",
    "algo.train(trainset)\n",
    "userid = \"A1ISPS5HL554ZF\"\n",
    "itemid = \"B00B29S1JK\"\n",
    "actual_rating = 3\n",
    "print algo.predict(userid, itemid, 3)"
   ]
  },
  {
   "cell_type": "code",
   "execution_count": 130,
   "metadata": {},
   "outputs": [
    {
     "name": "stdout",
     "output_type": "stream",
     "text": [
      "Evaluating RMSE, MAE of algorithm BaselineOnly.\n",
      "\n",
      "------------\n",
      "Fold 1\n",
      "Estimating biases using als...\n",
      "RMSE: 1.1350\n",
      "MAE:  0.9113\n",
      "------------\n",
      "Fold 2\n",
      "Estimating biases using als...\n",
      "RMSE: 1.1708\n",
      "MAE:  0.9104\n",
      "------------\n",
      "Fold 3\n",
      "Estimating biases using als...\n",
      "RMSE: 1.2276\n",
      "MAE:  0.9603\n",
      "------------\n",
      "Fold 4\n",
      "Estimating biases using als...\n",
      "RMSE: 1.2447\n",
      "MAE:  0.9385\n",
      "------------\n",
      "Fold 5\n",
      "Estimating biases using als...\n",
      "RMSE: 1.1461\n",
      "MAE:  0.9101\n",
      "------------\n",
      "------------\n",
      "Mean RMSE: 1.1848\n",
      "Mean MAE : 0.9261\n",
      "------------\n",
      "------------\n"
     ]
    }
   ],
   "source": [
    "from surprise import BaselineOnly, evaluate\n",
    "algo = BaselineOnly()\n",
    "result5=evaluate(algo, data, measures=['RMSE', 'MAE'])"
   ]
  },
  {
   "cell_type": "code",
   "execution_count": 131,
   "metadata": {},
   "outputs": [
    {
     "name": "stdout",
     "output_type": "stream",
     "text": [
      "Estimating biases using als...\n",
      "user: A1ISPS5HL554ZF item: B00B29S1JK r_ui = 3.00   est = 4.12   {u'was_impossible': False}\n"
     ]
    }
   ],
   "source": [
    "trainset = data.build_full_trainset()\n",
    "algo.train(trainset)\n",
    "userid = \"A1ISPS5HL554ZF\"\n",
    "itemid = \"B00B29S1JK\"\n",
    "actual_rating = 3\n",
    "print algo.predict(userid, itemid, 3)\n",
    "\n"
   ]
  },
  {
   "cell_type": "code",
   "execution_count": 132,
   "metadata": {},
   "outputs": [
    {
     "name": "stdout",
     "output_type": "stream",
     "text": [
      "defaultdict(<type 'list'>, {'mae': [0.90625124857774664, 0.91102372557766054, 0.95775153617503139, 0.92974391772627052, 0.90620599030757731], 'rmse': [1.1359666957453651, 1.1744013265389781, 1.2258230576174496, 1.2384789496220892, 1.1482185600217696]})\n"
     ]
    }
   ],
   "source": [
    "print result_1"
   ]
  },
  {
   "cell_type": "code",
   "execution_count": null,
   "metadata": {
    "collapsed": true
   },
   "outputs": [],
   "source": []
  }
 ],
 "metadata": {
  "kernelspec": {
   "display_name": "Python 2",
   "language": "python",
   "name": "python2"
  },
  "language_info": {
   "codemirror_mode": {
    "name": "ipython",
    "version": 2
   },
   "file_extension": ".py",
   "mimetype": "text/x-python",
   "name": "python",
   "nbconvert_exporter": "python",
   "pygments_lexer": "ipython2",
   "version": "2.7.13"
  }
 },
 "nbformat": 4,
 "nbformat_minor": 2
}
