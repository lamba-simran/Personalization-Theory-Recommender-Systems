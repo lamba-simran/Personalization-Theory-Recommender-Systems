{
 "cells": [
  {
   "cell_type": "code",
   "execution_count": 290,
   "metadata": {
    "collapsed": true
   },
   "outputs": [],
   "source": [
    "import os\n",
    "import surprise\n",
    "from surprise import Reader, Dataset\n",
    "\n",
    "file_path = os.path.expanduser('/Users/drakaris/Desktop/personalisation projects/personalization-theory-master/sampled_data.csv')\n",
    "reader = Reader(line_format='user item rating', sep=',')\n",
    "data = Dataset.load_from_file(file_path, reader=reader)\n",
    "data.split(n_folds=5) # data can now be used normally"
   ]
  },
  {
   "cell_type": "code",
   "execution_count": 291,
   "metadata": {},
   "outputs": [
    {
     "name": "stdout",
     "output_type": "stream",
     "text": [
      "RMSE: 0.4827\n"
     ]
    }
   ],
   "source": [
    "from surprise import SVD, evaluate, GridSearch\n",
    "from surprise import accuracy\n",
    "algo=SVD(lr_all=0.01, reg_all=0.04, n_factors=100, n_epochs=100)\n",
    "trainset = data.build_full_trainset()\n",
    "algo.train(trainset)\n",
    "# testset = trainset.build_testset()\n",
    "testset = trainset.build_anti_testset()\n",
    "predictions = algo.test(testset)\n",
    "SVDbestRMSE=accuracy.rmse(predictions, verbose=True)\n"
   ]
  },
  {
   "cell_type": "code",
   "execution_count": 292,
   "metadata": {},
   "outputs": [
    {
     "name": "stdout",
     "output_type": "stream",
     "text": [
      "RMSE: 0.3064\n"
     ]
    }
   ],
   "source": [
    "from surprise import SVDpp, evaluate, GridSearch\n",
    "algo=SVDpp(lr_all=0.01, reg_all=0.06, n_factors=100,n_epochs=20)\n",
    "algo.train(trainset)\n",
    "predictions = algo.test(testset)\n",
    "SVDppbestRMSE=accuracy.rmse(predictions, verbose=True)"
   ]
  },
  {
   "cell_type": "code",
   "execution_count": 296,
   "metadata": {},
   "outputs": [
    {
     "name": "stdout",
     "output_type": "stream",
     "text": [
      "RMSE: 1.2112\n"
     ]
    }
   ],
   "source": [
    "from surprise import NMF, evaluate\n",
    "algo=NMF(n_factors=20, reg_qi=0.06, n_epochs=20)\n",
    "algo.train(trainset)\n",
    "predictions = algo.test(testset)\n",
    "NMFbestRMSE=accuracy.rmse(predictions, verbose=True)"
   ]
  },
  {
   "cell_type": "code",
   "execution_count": 294,
   "metadata": {},
   "outputs": [
    {
     "name": "stdout",
     "output_type": "stream",
     "text": [
      "Estimating biases using als...\n",
      "RMSE: 0.3075\n"
     ]
    }
   ],
   "source": [
    "from surprise import BaselineOnly\n",
    "algo=BaselineOnly()\n",
    "\n",
    "algo.train(trainset)\n",
    "\n",
    "predictions = algo.test(testset)\n",
    "BaselinebestRMSE=accuracy.rmse(predictions, verbose=True)"
   ]
  },
  {
   "cell_type": "code",
   "execution_count": 295,
   "metadata": {},
   "outputs": [
    {
     "data": {
      "image/png": "[encoded data removed]",
      "text/plain": [
       "<matplotlib.figure.Figure at 0x11d3697d0>"
      ]
     },
     "metadata": {},
     "output_type": "display_data"
    }
   ],
   "source": [
    "import matplotlib.pyplot as plt; plt.rcdefaults()\n",
    "import numpy as np\n",
    "import matplotlib.pyplot as plt\n",
    " \n",
    "objects = (\"SVDbestRMSE\",\"SVDppbestRMSE\",\"NMFbestRMSE\",\"BaselinebestRMSE\")\n",
    "y_pos = np.arange(len(objects))\n",
    "performance = [SVDbestRMSE, SVDppbestRMSE,NMFbestRMSE,BaselinebestRMSE]\n",
    "plt.bar(y_pos, performance, align='center', alpha=0.1)\n",
    "plt.xticks(y_pos, objects)\n",
    "plt.show()\n"
   ]
  },
  {
   "cell_type": "code",
   "execution_count": null,
   "metadata": {
    "collapsed": true
   },
   "outputs": [],
   "source": []
  },
  {
   "cell_type": "code",
   "execution_count": null,
   "metadata": {
    "collapsed": true
   },
   "outputs": [],
   "source": []
  },
  {
   "cell_type": "code",
   "execution_count": null,
   "metadata": {
    "collapsed": true
   },
   "outputs": [],
   "source": []
  }
 ],
 "metadata": {
  "kernelspec": {
   "display_name": "Python 2",
   "language": "python",
   "name": "python2"
  },
  "language_info": {
   "codemirror_mode": {
    "name": "ipython",
    "version": 2
   },
   "file_extension": ".py",
   "mimetype": "text/x-python",
   "name": "python",
   "nbconvert_exporter": "python",
   "pygments_lexer": "ipython2",
   "version": "2.7.13"
  }
 },
 "nbformat": 4,
 "nbformat_minor": 2
}
