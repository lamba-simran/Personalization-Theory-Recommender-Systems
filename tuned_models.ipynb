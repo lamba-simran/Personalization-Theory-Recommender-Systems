{
 "cells": [
  {
   "cell_type": "code",
   "execution_count": 4,
   "metadata": {},
   "outputs": [
    {
     "name": "stdout",
     "output_type": "stream",
     "text": [
      "[{'n_factors': 25, 'n_epochs': 10}, {'n_factors': 25, 'n_epochs': 20}, {'n_factors': 25, 'n_epochs': 30}, {'n_factors': 25, 'n_epochs': 40}, {'n_factors': 25, 'n_epochs': 50}, {'n_factors': 50, 'n_epochs': 10}, {'n_factors': 50, 'n_epochs': 20}, {'n_factors': 50, 'n_epochs': 30}, {'n_factors': 50, 'n_epochs': 40}, {'n_factors': 50, 'n_epochs': 50}, {'n_factors': 100, 'n_epochs': 10}, {'n_factors': 100, 'n_epochs': 20}, {'n_factors': 100, 'n_epochs': 30}, {'n_factors': 100, 'n_epochs': 40}, {'n_factors': 100, 'n_epochs': 50}, {'n_factors': 250, 'n_epochs': 10}, {'n_factors': 250, 'n_epochs': 20}, {'n_factors': 250, 'n_epochs': 30}, {'n_factors': 250, 'n_epochs': 40}, {'n_factors': 250, 'n_epochs': 50}]\n",
      "('SVD:', {'n_factors': 100, 'n_epochs': 30})\n",
      "RMSE: 0.4037\n",
      "[{'n_factors': 25, 'n_epochs': 10}, {'n_factors': 25, 'n_epochs': 20}, {'n_factors': 25, 'n_epochs': 30}, {'n_factors': 25, 'n_epochs': 40}, {'n_factors': 25, 'n_epochs': 50}, {'n_factors': 50, 'n_epochs': 10}, {'n_factors': 50, 'n_epochs': 20}, {'n_factors': 50, 'n_epochs': 30}, {'n_factors': 50, 'n_epochs': 40}, {'n_factors': 50, 'n_epochs': 50}, {'n_factors': 100, 'n_epochs': 10}, {'n_factors': 100, 'n_epochs': 20}, {'n_factors': 100, 'n_epochs': 30}, {'n_factors': 100, 'n_epochs': 40}, {'n_factors': 100, 'n_epochs': 50}, {'n_factors': 250, 'n_epochs': 10}, {'n_factors': 250, 'n_epochs': 20}, {'n_factors': 250, 'n_epochs': 30}, {'n_factors': 250, 'n_epochs': 40}, {'n_factors': 250, 'n_epochs': 50}]\n",
      "('SVDpp:', {'n_factors': 25, 'n_epochs': 10})\n",
      "RMSE: 0.2685\n",
      "[{'n_factors': 45, 'n_epochs': 45}, {'n_factors': 45, 'n_epochs': 50}, {'n_factors': 45, 'n_epochs': 55}, {'n_factors': 50, 'n_epochs': 45}, {'n_factors': 50, 'n_epochs': 50}, {'n_factors': 50, 'n_epochs': 55}, {'n_factors': 55, 'n_epochs': 45}, {'n_factors': 55, 'n_epochs': 50}, {'n_factors': 55, 'n_epochs': 55}, {'n_factors': 60, 'n_epochs': 45}, {'n_factors': 60, 'n_epochs': 50}, {'n_factors': 60, 'n_epochs': 55}]\n",
      "('NMF:', {'n_factors': 50, 'n_epochs': 50})\n",
      "RMSE: 1.2043\n",
      "Estimating biases using als...\n",
      "RMSE: 0.3075\n"
     ]
    }
   ],
   "source": [
    "import os\n",
    "from surprise import Reader, Dataset, GridSearch, SVD, SVDpp, NMF, accuracy, BaselineOnly\n",
    "import numpy as np\n",
    "import matplotlib.pyplot as plt\n",
    "\n",
    "\n",
    "file_path = os.path.expanduser('sampled_data.csv')\n",
    "reader = Reader(line_format='user item rating', sep=',')\n",
    "data = Dataset.load_from_file(file_path, reader=reader)\n",
    "data.split(n_folds=5) # data can now be used normally\n",
    "training = data.build_full_trainset()\n",
    "testing = training.build_anti_testset()\n",
    "\n",
    "param_grid = {'n_factors': [25, 50, 100, 250], 'n_epochs': [10, 20, 30, 40, 50]}\n",
    "grid_search = GridSearch(SVD, param_grid, measures=['RMSE'], verbose=False)\n",
    "grid_search.evaluate(data)\n",
    "param = grid_search.best_params['RMSE']\n",
    "print('SVD:', param)\n",
    "svd = SVD(n_factors=param['n_factors'], n_epochs=param['n_epochs'])\n",
    "svd.train(training)\n",
    "predictions = svd.test(testing)\n",
    "svd_rmse = accuracy.rmse(predictions, verbose=True)\n",
    "\n",
    "\n",
    "grid_search = GridSearch(SVDpp, param_grid, measures=['RMSE'], verbose=False)\n",
    "grid_search.evaluate(data)\n",
    "param = grid_search.best_params['RMSE']\n",
    "print('SVDpp:', param)\n",
    "svdpp = SVDpp(n_factors=param['n_factors'], n_epochs=param['n_epochs'])\n",
    "svdpp.train(training)\n",
    "predictions = svdpp.test(testing)\n",
    "svdpp_rmse = accuracy.rmse(predictions, verbose=True)\n",
    "\n",
    "nmf_param_grid = {'n_factors': [45, 50, 55, 60], 'n_epochs': [45, 50, 55]}\n",
    "grid_search = GridSearch(NMF, nmf_param_grid, measures=['RMSE'], verbose=False)\n",
    "grid_search.evaluate(data)\n",
    "param = grid_search.best_params['RMSE']\n",
    "print('NMF:', param)\n",
    "nmf = NMF(n_factors=param['n_factors'], n_epochs=param['n_epochs'])\n",
    "nmf.train(training)\n",
    "predictions = nmf.test(testing)\n",
    "nmf_rmse = accuracy.rmse(predictions, verbose=True)\n",
    "\n",
    "baseline = BaselineOnly()\n",
    "baseline.train(training)\n",
    "predictions = baseline.test(testing)\n",
    "baseline_rmse = accuracy.rmse(predictions, verbose=True)\n"
   ]
  },
  {
   "cell_type": "code",
   "execution_count": 5,
   "metadata": {},
   "outputs": [
    {
     "data": {
      "image/png": "[encoded data removed]",
      "text/plain": [
       "<matplotlib.figure.Figure at 0x10b7bd910>"
      ]
     },
     "metadata": {},
     "output_type": "display_data"
    }
   ],
   "source": [
    "objects = (\"SVD\", \"SVD++\", \"NMF\", \"Baseline\")\n",
    "y_pos = np.arange(len(objects))\n",
    "performance = [svd_rmse, svdpp_rmse, nmf_rmse, baseline_rmse]\n",
    "plt.bar(y_pos, performance, align='center', alpha=0.1)\n",
    "plt.xticks(y_pos, objects)\n",
    "for a,b in zip(y_pos, performance):\n",
    "    plt.text(a, b, str(\"%.3f\"%b))\n",
    "plt.show()"
   ]
  },
  {
   "cell_type": "code",
   "execution_count": null,
   "metadata": {
    "collapsed": true
   },
   "outputs": [],
   "source": []
  }
 ],
 "metadata": {
  "kernelspec": {
   "display_name": "Python 2",
   "language": "python",
   "name": "python2"
  },
  "language_info": {
   "codemirror_mode": {
    "name": "ipython",
    "version": 2
   },
   "file_extension": ".py",
   "mimetype": "text/x-python",
   "name": "python",
   "nbconvert_exporter": "python",
   "pygments_lexer": "ipython2",
   "version": "2.7.13"
  }
 },
 "nbformat": 4,
 "nbformat_minor": 2
}
