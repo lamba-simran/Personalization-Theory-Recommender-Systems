{
 "cells": [
  {
   "cell_type": "code",
   "execution_count": 1,
   "metadata": {},
   "outputs": [],
   "source": [
    "import pyspark\n",
    "import pandas as pd\n",
    "import numpy as np\n",
    "from pyspark import SparkContext, since\n",
    "from pyspark.rdd import RDD\n",
    "import pyspark.sql\n",
    "\n",
    "from pyspark.mllib.recommendation import ALS\n",
    "import math"
   ]
  },
  {
   "cell_type": "code",
   "execution_count": 2,
   "metadata": {},
   "outputs": [],
   "source": [
    "import os\n",
    "from pyspark import SQLContext\n",
    "from pyspark import SparkContext \n",
    "from pyspark.sql import SQLContext \n",
    "sc = pyspark.SparkContext('local')\n",
    "sqlContext = SQLContext(sc)"
   ]
  },
  {
   "cell_type": "code",
   "execution_count": 3,
   "metadata": {},
   "outputs": [
    {
     "name": "stdout",
     "output_type": "stream",
     "text": [
      "+------+------+------+\n",
      "|userID|itemID|rating|\n",
      "+------+------+------+\n",
      "| 28831|     2|   5.0|\n",
      "| 35247|    19|   1.0|\n",
      "| 40339|    19|   3.0|\n",
      "|  9887|    19|   1.0|\n",
      "| 15802|    21|   5.0|\n",
      "| 53574|    21|   2.0|\n",
      "| 38732|    21|   5.0|\n",
      "| 44967|    21|   5.0|\n",
      "| 64000|    21|   5.0|\n",
      "| 80521|    21|   5.0|\n",
      "|  7996|    22|   5.0|\n",
      "| 26947|    22|   1.0|\n",
      "| 73519|    22|   5.0|\n",
      "| 72526|    22|   1.0|\n",
      "| 26252|    22|   4.0|\n",
      "| 55982|    22|   3.0|\n",
      "| 10348|    22|   2.0|\n",
      "| 28705|    22|   2.0|\n",
      "| 25076|    22|   4.0|\n",
      "| 46811|    22|   5.0|\n",
      "+------+------+------+\n",
      "only showing top 20 rows\n",
      "\n"
     ]
    }
   ],
   "source": [
    "ratings = sc.textFile(\"/Users/drakaris/Downloads/Electronics_Video_Games.csv\").map(lambda line: line.split(\",\"))\n",
    "ratings = ratings.toDF(['userID','itemID','rating'])\n",
    "ratings.show()\n"
   ]
  },
  {
   "cell_type": "code",
   "execution_count": 4,
   "metadata": {},
   "outputs": [],
   "source": [
    "from pyspark.sql.functions import regexp_extract\n",
    "from pyspark.sql.types import *\n",
    "ratings_filename=\"/Users/drakaris/Downloads/Electronics_Video_Games.csv\"\n",
    "ratings_df_schema = StructType([StructField('userID', IntegerType()),StructField('movieID', IntegerType()),StructField('rating', DoubleType())])\n"
   ]
  },
  {
   "cell_type": "code",
   "execution_count": 5,
   "metadata": {},
   "outputs": [],
   "source": [
    "ratings_df = sqlContext.read.format('com.databricks.spark.csv').options(header=True, inferSchema=False).schema(ratings_df_schema).load(ratings_filename)\n",
    "#ratings_df = raw_ratings_df.drop('Timestamp')\n",
    "#ratings_df.cache()\n"
   ]
  },
  {
   "cell_type": "code",
   "execution_count": 6,
   "metadata": {},
   "outputs": [
    {
     "name": "stdout",
     "output_type": "stream",
     "text": [
      "+------+-------+------+\n",
      "|userID|movieID|rating|\n",
      "+------+-------+------+\n",
      "| 35247|     19|   1.0|\n",
      "| 40339|     19|   3.0|\n",
      "|  9887|     19|   1.0|\n",
      "| 15802|     21|   5.0|\n",
      "| 53574|     21|   2.0|\n",
      "| 38732|     21|   5.0|\n",
      "| 44967|     21|   5.0|\n",
      "| 64000|     21|   5.0|\n",
      "| 80521|     21|   5.0|\n",
      "|  7996|     22|   5.0|\n",
      "| 26947|     22|   1.0|\n",
      "| 73519|     22|   5.0|\n",
      "| 72526|     22|   1.0|\n",
      "| 26252|     22|   4.0|\n",
      "| 55982|     22|   3.0|\n",
      "| 10348|     22|   2.0|\n",
      "| 28705|     22|   2.0|\n",
      "| 25076|     22|   4.0|\n",
      "| 46811|     22|   5.0|\n",
      "| 27683|     22|   4.0|\n",
      "+------+-------+------+\n",
      "only showing top 20 rows\n",
      "\n",
      "DataFrame[userID: int, movieID: int, rating: double]\n"
     ]
    }
   ],
   "source": [
    "ratings_df.show()\n",
    "print(ratings_df)"
   ]
  },
  {
   "cell_type": "code",
   "execution_count": 7,
   "metadata": {},
   "outputs": [],
   "source": [
    "from pyspark.ml.recommendation import ALS\n",
    "from pyspark.ml.evaluation import RegressionEvaluator\n",
    "from pyspark.ml.tuning import TrainValidationSplit, ParamGridBuilder\n",
    "\n",
    "\n",
    "#als=ALS(userCol=\"userID\",itemCol=\"movieID\", ratingCol=\"rating\", coldStartStrategy=\"drop\",nonnegative=True)"
   ]
  },
  {
   "cell_type": "code",
   "execution_count": 74,
   "metadata": {},
   "outputs": [],
   "source": [
    "from pyspark.mllib.recommendation\\\n",
    "    import ALS,MatrixFactorizationModel, Rating\n",
    "    \n",
    "ratings = ratings_df.rdd.map(lambda x: Rating(int(x[0]),\\\n",
    "    int(x[1]), float(x[2])))    \n",
    "\n",
    "train, test = ratings.randomSplit([0.8,0.2])\n",
    "\n",
    "train.count() #70,005\n",
    "test.count() #29,995\n",
    "\n",
    "#Need to cache the data to speed up training\n",
    "train.cache()\n",
    "test.cache()\n",
    "\n",
    "#Setting up the parameters for ALS\n",
    "rank = 25 # Latent Factors to be made\n",
    "numIterations = 25# Times to repeat process\n",
    "regParam = 0.35\n",
    "#Create the model on the training data\n",
    "model = ALS.train(train, rank, numIterations, regParam)"
   ]
  },
  {
   "cell_type": "code",
   "execution_count": 75,
   "metadata": {},
   "outputs": [],
   "source": [
    "#display(train)"
   ]
  },
  {
   "cell_type": "code",
   "execution_count": 76,
   "metadata": {},
   "outputs": [
    {
     "data": {
      "text/plain": [
       "[Rating(user=52519, product=242, rating=4.650234298211485),\n",
       " Rating(user=38896, product=242, rating=3.2448196209320255),\n",
       " Rating(user=76890, product=242, rating=3.072546772374353),\n",
       " Rating(user=12696, product=242, rating=2.9823640814484524),\n",
       " Rating(user=70205, product=242, rating=2.9823640814484524),\n",
       " Rating(user=18793, product=242, rating=2.978626192256457),\n",
       " Rating(user=52725, product=242, rating=2.9113174981089878),\n",
       " Rating(user=8839, product=242, rating=2.9113174981089878),\n",
       " Rating(user=55479, product=242, rating=2.884237519188793),\n",
       " Rating(user=9662, product=242, rating=2.7481616744071085)]"
      ]
     },
     "execution_count": 76,
     "metadata": {},
     "output_type": "execute_result"
    }
   ],
   "source": [
    "model.recommendUsers(242,10)"
   ]
  },
  {
   "cell_type": "code",
   "execution_count": 77,
   "metadata": {},
   "outputs": [
    {
     "data": {
      "text/plain": [
       "[Rating(user=196, product=67, rating=3.6938825940752356),\n",
       " Rating(user=196, product=5665, rating=2.9900092053319094),\n",
       " Rating(user=196, product=4581, rating=2.6101358684975153),\n",
       " Rating(user=196, product=1332, rating=2.5682584930131767),\n",
       " Rating(user=196, product=913, rating=2.415789865946774),\n",
       " Rating(user=196, product=5729, rating=2.3812850027861714),\n",
       " Rating(user=196, product=1828, rating=2.2995355074893835),\n",
       " Rating(user=196, product=5713, rating=2.2445142326657948),\n",
       " Rating(user=196, product=7105, rating=2.242506947793156),\n",
       " Rating(user=196, product=3778, rating=2.2037059013382465)]"
      ]
     },
     "execution_count": 77,
     "metadata": {},
     "output_type": "execute_result"
    }
   ],
   "source": [
    "# For User Y Find N Products to Promote\n",
    "model.recommendProducts(196,10)\n",
    "\n"
   ]
  },
  {
   "cell_type": "code",
   "execution_count": 78,
   "metadata": {},
   "outputs": [
    {
     "data": {
      "text/plain": [
       "-0.657286139974113"
      ]
     },
     "execution_count": 78,
     "metadata": {},
     "output_type": "execute_result"
    }
   ],
   "source": [
    "#Predict Single Product for Single User\n",
    "model.predict(196, 242)\n",
    "\n"
   ]
  },
  {
   "cell_type": "code",
   "execution_count": 79,
   "metadata": {},
   "outputs": [],
   "source": [
    "# Predict Multi Users and Multi Products\n",
    "# Pre-Processing\n",
    "pred_input = train.map(lambda x:(x[0],x[1]))   \n",
    "\n"
   ]
  },
  {
   "cell_type": "code",
   "execution_count": 80,
   "metadata": {},
   "outputs": [],
   "source": [
    "# Lots of Predictions\n",
    "#Returns Ratings(user, item, prediction)\n",
    "pred = model.predictAll(pred_input) "
   ]
  },
  {
   "cell_type": "code",
   "execution_count": 81,
   "metadata": {},
   "outputs": [],
   "source": [
    "true_reorg = train.map(lambda x:((x[0],x[1]), x[2]))\n",
    "pred_reorg = pred.map(lambda x:((x[0],x[1]), x[2]))\n",
    "\n",
    "#Do the actual join\n",
    "true_pred = true_reorg.join(pred_reorg)\n",
    "\n",
    "#Need to be able to square root the Mean-Squared Error\n",
    "from math import sqrt\n",
    "\n",
    "MSE = true_pred.map(lambda r: (r[1][0] - r[1][1])**2).mean()\n",
    "RMSE = sqrt(MSE)#Results in 0.7629908117414474"
   ]
  },
  {
   "cell_type": "code",
   "execution_count": 82,
   "metadata": {},
   "outputs": [
    {
     "name": "stdout",
     "output_type": "stream",
     "text": [
      "0.396909609300436\n"
     ]
    }
   ],
   "source": [
    "print(RMSE)"
   ]
  },
  {
   "cell_type": "code",
   "execution_count": 83,
   "metadata": {},
   "outputs": [],
   "source": [
    "#Test Set Evaluation\n",
    "#More dense, but nothing we haven't done before\n",
    "test_input = test.map(lambda x:(x[0],x[1])) \n",
    "pred_test = model.predictAll(test_input)\n",
    "test_reorg = test.map(lambda x:((x[0],x[1]), x[2]))\n",
    "pred_reorg = pred_test.map(lambda x:((x[0],x[1]), x[2]))\n",
    "test_pred = test_reorg.join(pred_reorg)\n",
    "test_MSE = test_pred.map(lambda r: (r[1][0] - r[1][1])**2).mean()\n",
    "test_RMSE = sqrt(test_MSE)#1.0145549956596238"
   ]
  },
  {
   "cell_type": "code",
   "execution_count": 84,
   "metadata": {},
   "outputs": [
    {
     "name": "stdout",
     "output_type": "stream",
     "text": [
      "2.20186591317568\n"
     ]
    }
   ],
   "source": [
    "print(test_RMSE)"
   ]
  },
  {
   "cell_type": "code",
   "execution_count": null,
   "metadata": {},
   "outputs": [],
   "source": []
  }
 ],
 "metadata": {
  "kernelspec": {
   "display_name": "Python 3",
   "language": "python",
   "name": "python3"
  },
  "language_info": {
   "codemirror_mode": {
    "name": "ipython",
    "version": 3
   },
   "file_extension": ".py",
   "mimetype": "text/x-python",
   "name": "python",
   "nbconvert_exporter": "python",
   "pygments_lexer": "ipython3",
   "version": "3.5.4"
  }
 },
 "nbformat": 4,
 "nbformat_minor": 2
}
