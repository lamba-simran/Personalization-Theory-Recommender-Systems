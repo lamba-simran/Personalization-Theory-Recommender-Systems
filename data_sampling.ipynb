{
 "cells": [
  {
   "cell_type": "code",
   "execution_count": 3,
   "metadata": {
    "collapsed": true
   },
   "outputs": [],
   "source": [
    "import pandas as pd\n",
    "import gzip\n",
    "\n",
    "def parse(path):\n",
    "  g = gzip.open(path, 'rb')\n",
    "  for l in g:\n",
    "    yield eval(l)\n",
    "\n",
    "def getDF(path):\n",
    "  i = 0\n",
    "  df = {}\n",
    "  for d in parse(path):\n",
    "    df[i] = d\n",
    "    i += 1\n",
    "  return pd.DataFrame.from_dict(df, orient='index')\n",
    "\n",
    "reviews = getDF('/Users/taeyoungchoi/Documents/Fall 17/Personalization Theory/reviews_Video_Games.json.gz')\n",
    "meta = getDF('/Users/taeyoungchoi/Documents/Fall 17/Personalization Theory/meta_Video_Games.json.gz')"
   ]
  },
  {
   "cell_type": "code",
   "execution_count": 4,
   "metadata": {},
   "outputs": [
    {
     "name": "stdout",
     "output_type": "stream",
     "text": [
      "['reviewerID', 'asin', 'reviewerName', 'helpful', 'reviewText', 'overall', 'summary', 'unixReviewTime', 'reviewTime']\n['asin', 'description', 'price', 'imUrl', 'related', 'salesRank', 'categories', 'title', 'brand']\n(50953, 9)\n"
     ]
    }
   ],
   "source": [
    "print(reviews.columns.tolist())\n",
    "print(meta.columns.tolist())\n",
    "print(meta.shape)"
   ]
  },
  {
   "cell_type": "code",
   "execution_count": 5,
   "metadata": {},
   "outputs": [
    {
     "name": "stdout",
     "output_type": "stream",
     "text": [
      "asin               B00000J9J6\ncategories    [[Video Games]]\nName: 313, dtype: object\n"
     ]
    }
   ],
   "source": [
    "print(meta.loc[313, ['asin', 'categories']])"
   ]
  },
  {
   "cell_type": "code",
   "execution_count": 6,
   "metadata": {},
   "outputs": [],
   "source": [
    "def assignment(item):\n",
    "    wanted_categories = ['PC', 'Mac', 'More Systems', 'Nintendo', 'PlayStation', 'Sony', 'Video Games', 'Wii', 'Xbox']\n",
    "    counter = 0\n",
    "    for category in wanted_categories:\n",
    "        if category in item:\n",
    "            return wanted_categories[counter]\n",
    "        else:\n",
    "            counter += 1\n",
    "    return ''\n",
    "\n",
    "\n",
    "def assignment2(item):\n",
    "    wanted_categories = ['PC', 'Mac', 'More Systems', 'Nintendo', 'PlayStation', 'Sony', 'Video Games', 'Wii', 'Xbox']\n",
    "    counter = 0\n",
    "    category = ''\n",
    "    for category2 in wanted_categories:\n",
    "        if category2 in item:\n",
    "            category = category + \" \" + category2\n",
    "            counter += 1\n",
    "        else:\n",
    "            counter += 1\n",
    "    return category.strip()\n",
    "\n",
    "\n",
    "def pick_categories(row):\n",
    "    each_game_category = row['categories']\n",
    "    category = ''\n",
    "    if len(each_game_category) > 1:\n",
    "        for i in range(len(each_game_category)):\n",
    "            each_game = each_game_category[i]\n",
    "            category = category + \" \" + each_game[1]\n",
    "        return assignment2(category)\n",
    "    else:\n",
    "        if len(each_game_category[0]) == 1:\n",
    "            return ''\n",
    "        elif len(each_game_category[0]) > 3:\n",
    "            return assignment(each_game_category[0][2])\n",
    "        else:\n",
    "            return assignment(each_game_category[0][1])\n",
    "        \n",
    "        \n",
    "def mult_cat(row):\n",
    "    each_game_category = row['cat']\n",
    "    wanted_categories = ['PC', 'Mac', 'More Systems', 'Nintendo', 'PlayStation', 'Sony', 'Video Games', 'Wii', 'Xbox']\n",
    "    counter = 0\n",
    "    for category2 in wanted_categories:\n",
    "        if category2 in each_game_category:\n",
    "            counter += 1\n",
    "    if counter >= 2:\n",
    "        return \"multi_support\"\n",
    "    else:\n",
    "        return each_game_category"
   ]
  },
  {
   "cell_type": "code",
   "execution_count": 7,
   "metadata": {},
   "outputs": [],
   "source": [
    "different_cat = meta.apply(lambda row: pick_categories(row), axis=1)\n",
    "meta['cat'] = different_cat\n",
    "meta2 = meta[meta['cat'] != '']\n",
    "different_cat = meta2.apply(lambda row: mult_cat(row), axis=1)\n",
    "meta['cat2'] = different_cat\n",
    "cat_table = pd.crosstab(index = meta['cat2'], columns=\"count\")\n",
    "print(cat_table.sort_values(by='count', ascending=0))"
   ]
  },
  {
   "cell_type": "code",
   "execution_count": 10,
   "metadata": {},
   "outputs": [],
   "source": [
    "meta_clean = meta[meta['cat2'].notnull()]\n",
    "meta_clean = meta_clean[['asin', 'cat2']]\n",
    "meta_clean.columns = ['asin', 'category']\n",
    "merged_df = pd.merge(meta_clean, reviews, on = 'asin', how='inner')"
   ]
  },
  {
   "cell_type": "code",
   "execution_count": 34,
   "metadata": {},
   "outputs": [],
   "source": [
    "import dateutil\n",
    "merged_df['date'] = [dateutil.parser.parse(x) for x in merged_df['reviewTime']]\n",
    "merged_df = merged_df.drop('reviewTime', 1)\n",
    "print(merged_df.columns)\n",
    "merged_df = merged_df.drop(merged_df.columns[[3, 4, 5, 7, 8]], 1)\n"
   ]
  },
  {
   "cell_type": "code",
   "execution_count": 52,
   "metadata": {},
   "outputs": [],
   "source": [
    "relevant_data = merged_df[merged_df.date > '2011-01-01'] \n",
    "relevant_data.to_csv(\"clean_data.csv\")"
   ]
  },
  {
   "cell_type": "code",
   "execution_count": 67,
   "metadata": {},
   "outputs": [
    {
     "data": {
      "text/plain": [
       "(648665, 5)"
      ]
     },
     "execution_count": 67,
     "metadata": {},
     "output_type": "execute_result"
    }
   ],
   "source": [
    "relevant_data.shape"
   ]
  },
  {
   "cell_type": "code",
   "execution_count": 68,
   "metadata": {},
   "outputs": [
    {
     "name": "stdout",
     "output_type": "stream",
     "text": [
      "31541 427533\n"
     ]
    }
   ],
   "source": [
    "print(len(set(relevant_data.asin)), len(set(relevant_data.reviewerID)))"
   ]
  },
  {
   "cell_type": "code",
   "execution_count": 81,
   "metadata": {
    "collapsed": false
   },
   "outputs": [
    {
     "data": {
      "text/plain": [
       "category\nMac               1.309407\nMore Systems     11.692717\nNintendo         11.454932\nPC               37.525760\nPlayStation      12.710440\nSony              3.034146\nWii               6.597762\nXbox              9.815795\nmulti_support     5.859041\nName: count, dtype: float64"
      ]
     },
     "execution_count": 81,
     "metadata": {},
     "output_type": "execute_result"
    }
   ],
   "source": [
    "relevant_data2 = relevant_data\n",
    "relevant_data2 = relevant_data2.drop_duplicates(['asin'])\n",
    "rows = relevant_data2.shape[0]\n",
    "cat_prop = pd.crosstab(index = relevant_data2['category'], columns=\"count\")\n",
    "cat_prop['count'].div(rows).multiply(100)\n",
    "## Mac 1 - Remove\n",
    "## More Systems 12\n",
    "## Nintendo 11\n",
    "## PC 38\n",
    "## PlayStation 13\n",
    "## Sony 3\n",
    "## Wii 7\n",
    "## Xbox 10\n",
    "## multi_support 6"
   ]
  },
  {
   "cell_type": "code",
   "execution_count": 131,
   "metadata": {},
   "outputs": [],
   "source": [
    "sample = {}\n",
    "xbox = relevant_data[relevant_data['category'] == 'Xbox']\n",
    "xbox_num_table = pd.crosstab(index = xbox['asin'], columns=\"count\")\n",
    "xbox_quant = list(xbox_num_table.quantile([.2,.4,.6,.8])['count'])"
   ]
  },
  {
   "cell_type": "code",
   "execution_count": 132,
   "metadata": {},
   "outputs": [],
   "source": [
    "sample_id = xbox_num_table[xbox_num_table['count'] <= xbox_quant[0]].sample(n=2).index.tolist()\n",
    "sample_id = sample_id + xbox_num_table[(xbox_num_table['count'] > xbox_quant[0]) & (xbox_num_table['count'] <= xbox_quant[1])].sample(n=2).index.tolist()\n",
    "sample_id = sample_id + xbox_num_table[(xbox_num_table['count'] > xbox_quant[1]) & (xbox_num_table['count'] <= xbox_quant[2])].sample(n=2).index.tolist()\n",
    "sample_id = sample_id + xbox_num_table[(xbox_num_table['count'] > xbox_quant[2]) & (xbox_num_table['count'] <= xbox_quant[3])].sample(n=2).index.tolist()\n",
    "sample_id = sample_id + xbox_num_table[xbox_num_table['count'] > xbox_quant[3]].sample(n=2).index.tolist()\n",
    "sample['xbox'] = sample_id"
   ]
  },
  {
   "cell_type": "code",
   "execution_count": 133,
   "metadata": {},
   "outputs": [],
   "source": [
    "cat = relevant_data[relevant_data['category'] == 'More Systems']\n",
    "cat_num_table = pd.crosstab(index = cat['asin'], columns=\"count\")\n",
    "quant = list(xbox_num_table.quantile([.25, .5, .75])['count'])\n",
    "sample_id = cat_num_table[cat_num_table['count'] <= quant[0]].sample(n=3).index.tolist()\n",
    "sample_id = sample_id + cat_num_table[(cat_num_table['count'] > quant[0]) & (cat_num_table['count'] <= quant[1])].sample(n=3).index.tolist()\n",
    "sample_id = sample_id + cat_num_table[(cat_num_table['count'] > quant[1]) & (cat_num_table['count'] <= quant[2])].sample(n=3).index.tolist()\n",
    "sample_id = sample_id + cat_num_table[cat_num_table['count'] > quant[2]].sample(n=3).index.tolist()\n",
    "sample['More Systems'] = sample_id"
   ]
  },
  {
   "cell_type": "code",
   "execution_count": 134,
   "metadata": {},
   "outputs": [],
   "source": [
    "cat = relevant_data[relevant_data['category'] == 'Nintendo']\n",
    "cat_num_table = pd.crosstab(index = cat['asin'], columns=\"count\")\n",
    "quant = list(xbox_num_table.quantile([.25, .5, .75])['count'])\n",
    "sample_id = cat_num_table[cat_num_table['count'] <= quant[0]].sample(n=2).index.tolist()\n",
    "sample_id = sample_id + cat_num_table[(cat_num_table['count'] > quant[0]) & (cat_num_table['count'] <= quant[1])].sample(n=3).index.tolist()\n",
    "sample_id = sample_id + cat_num_table[(cat_num_table['count'] > quant[1]) & (cat_num_table['count'] <= quant[2])].sample(n=3).index.tolist()\n",
    "sample_id = sample_id + cat_num_table[cat_num_table['count'] > quant[2]].sample(n=3).index.tolist()\n",
    "sample['Nintendo'] = sample_id"
   ]
  },
  {
   "cell_type": "code",
   "execution_count": 135,
   "metadata": {},
   "outputs": [],
   "source": [
    "cat = relevant_data[relevant_data['category'] == 'PC']\n",
    "cat_num_table = pd.crosstab(index = cat['asin'], columns=\"count\")\n",
    "quant = list(xbox_num_table.quantile([.25, .5, .75])['count'])\n",
    "sample_id = cat_num_table[cat_num_table['count'] <= quant[0]].sample(n=9).index.tolist()\n",
    "sample_id = sample_id + cat_num_table[(cat_num_table['count'] > quant[0]) & (cat_num_table['count'] <= quant[1])].sample(n=9).index.tolist()\n",
    "sample_id = sample_id + cat_num_table[(cat_num_table['count'] > quant[1]) & (cat_num_table['count'] <= quant[2])].sample(n=10).index.tolist()\n",
    "sample_id = sample_id + cat_num_table[cat_num_table['count'] > quant[2]].sample(n=10).index.tolist()\n",
    "sample['PC'] = sample_id"
   ]
  },
  {
   "cell_type": "code",
   "execution_count": 140,
   "metadata": {},
   "outputs": [],
   "source": [
    "cat = relevant_data[relevant_data['category'] == 'Sony']\n",
    "cat_num_table = pd.crosstab(index = cat['asin'], columns=\"count\")\n",
    "quant = list(xbox_num_table.quantile([.5])['count'])\n",
    "sample_id = cat_num_table[cat_num_table['count'] <= quant[0]].sample(n=1).index.tolist()\n",
    "sample_id = sample_id + cat_num_table[cat_num_table['count'] > quant[0]].sample(n=2).index.tolist()\n",
    "sample['Sony'] = sample_id"
   ]
  },
  {
   "cell_type": "code",
   "execution_count": 141,
   "metadata": {},
   "outputs": [],
   "source": [
    "cat = relevant_data[relevant_data['category'] == 'PlayStation']\n",
    "cat_num_table = pd.crosstab(index = cat['asin'], columns=\"count\")\n",
    "quant = list(xbox_num_table.quantile([.25, .5, .75])['count'])\n",
    "sample_id = cat_num_table[cat_num_table['count'] <= quant[0]].sample(n=3).index.tolist()\n",
    "sample_id = sample_id + cat_num_table[(cat_num_table['count'] > quant[0]) & (cat_num_table['count'] <= quant[1])].sample(n=3).index.tolist()\n",
    "sample_id = sample_id + cat_num_table[(cat_num_table['count'] > quant[1]) & (cat_num_table['count'] <= quant[2])].sample(n=3).index.tolist()\n",
    "sample_id = sample_id + cat_num_table[cat_num_table['count'] > quant[2]].sample(n=4).index.tolist()\n",
    "sample['PlayStation'] = sample_id"
   ]
  },
  {
   "cell_type": "code",
   "execution_count": 143,
   "metadata": {},
   "outputs": [],
   "source": [
    "cat = relevant_data[relevant_data['category'] == 'Wii']\n",
    "cat_num_table = pd.crosstab(index = cat['asin'], columns=\"count\")\n",
    "quant = list(xbox_num_table.quantile([.25, .5, .75])['count'])\n",
    "sample_id = cat_num_table[cat_num_table['count'] <= quant[0]].sample(n=1).index.tolist()\n",
    "sample_id = sample_id + cat_num_table[(cat_num_table['count'] > quant[0]) & (cat_num_table['count'] <= quant[1])].sample(n=2).index.tolist()\n",
    "sample_id = sample_id + cat_num_table[(cat_num_table['count'] > quant[1]) & (cat_num_table['count'] <= quant[2])].sample(n=2).index.tolist()\n",
    "sample_id = sample_id + cat_num_table[cat_num_table['count'] > quant[2]].sample(n=2).index.tolist()\n",
    "sample['Wii'] = sample_id"
   ]
  },
  {
   "cell_type": "code",
   "execution_count": 145,
   "metadata": {},
   "outputs": [],
   "source": [
    "cat = relevant_data[relevant_data['category'] == 'multi_support']\n",
    "cat_num_table = pd.crosstab(index = cat['asin'], columns=\"count\")\n",
    "quant = list(xbox_num_table.quantile([.33, .66])['count'])\n",
    "sample_id = cat_num_table[cat_num_table['count'] <= quant[0]].sample(n=2).index.tolist()\n",
    "sample_id = sample_id + cat_num_table[(cat_num_table['count'] > quant[0]) & (cat_num_table['count'] <= quant[1])].sample(n=2).index.tolist()\n",
    "sample_id = sample_id + cat_num_table[cat_num_table['count'] > quant[1]].sample(n=2).index.tolist()\n",
    "sample['multi_support'] = sample_id"
   ]
  },
  {
   "cell_type": "code",
   "execution_count": 146,
   "metadata": {},
   "outputs": [
    {
     "name": "stdout",
     "output_type": "stream",
     "text": [
      "{'xbox': ['B002TLNA7I', 'B0094MZJZ6', 'B000O5FU8I', 'B000FL8YCU', 'B001L2BF1E', 'B006Q6PYIK', 'B001FEO72M', 'B002E1SBVI', 'B00723NQO0', 'B001HWB68K'], 'More Systems': ['B0000657SO', 'B000CPKQCU', 'B0002MNXCS', 'B00000JQQJ', 'B00005NCAG', 'B00002SVFA', 'B00005ML0Z', 'B002A9JH9E', 'B0000A30RA', 'B00009WAUD', 'B00004SVV7', 'B000034DC2'], 'Nintendo': ['B0084ZY6YY', 'B000JG2DEQ', 'B002ASVYIM', 'B00JRF289K', 'B001NCJQIQ', 'B00354NBAO', 'B001QTW2HS', 'B004RLGQ56', 'B004E0M5IC', 'B004W4TG5K', 'B004EVWYYG'], 'PC': ['B000292944', 'B0000690P7', 'B002B3LHWE', 'B00004TFHM', 'B000056V4G', 'B0009YI1JO', 'B000E7XO0C', 'B004YWSKK2', 'B003EYV6ZW', 'B000124FXU', 'B004FZ97QO', '8990289432', 'B000VM0AK2', 'B006N4I3ZQ', 'B008YH3C9C', 'B00H4J647I', 'B000WNURPS', 'B001BNDPO8', 'B003NS3KBC', 'B004GKNKQQ', 'B0017WE26S', 'B008MZNRNW', 'B006VFRCOA', 'B004FYZRSM', 'B000652U0W', 'B004GWVZWU', 'B00A3DJSSE', 'B00006CRVH', 'B004JMXTNU', 'B00ELJRO1E', 'B0067STHJE', 'B00F4H2O6W', 'B00413QCS6', 'B0096PLB9O', 'B004BDBSXA', 'B000VRH6Y0', 'B00BLS4GI2', 'B00DIIZ15A'], 'Sony': ['B001MYKLIY', 'B0037UCSUU', 'B001IB1YOQ'], 'PlayStation': ['B002YGS5SM', 'B000092W8S', 'B00005QI2S', 'B00GGUK3QO', 'B002GP6WAO', 'B00006FDLM', 'B000HKMPVA', 'B000TP2V2G', 'B00004WLZ7', 'B00I0574EW', 'B001QXNBNI', 'B000K1CS5Y', 'B003YVP5DE'], 'Wii': ['B003XDJEIA', 'B003VKLA6Y', 'B003E66YRU', 'B000SH3XBS', 'B0089XDFA2', 'B008RA5AWS', 'B00ANHBJWS'], 'multi_support': ['B00GFMLGXM', 'B00007MFT1', 'B0066DDOMG', 'B001VIF68Q', 'B00191GSYG', 'B00004U4R9']}\n"
     ]
    }
   ],
   "source": [
    "print(sample)"
   ]
  },
  {
   "cell_type": "code",
   "execution_count": 150,
   "metadata": {},
   "outputs": [
    {
     "data": {
      "text/plain": [
       "100"
      ]
     },
     "execution_count": 150,
     "metadata": {},
     "output_type": "execute_result"
    }
   ],
   "source": [
    "sum(map(len, sample.values()))"
   ]
  },
  {
   "cell_type": "code",
   "execution_count": null,
   "metadata": {},
   "outputs": [],
   "source": []
  }
 ],
 "metadata": {
  "kernelspec": {
   "display_name": "Python 2",
   "language": "python",
   "name": "python2"
  },
  "language_info": {
   "codemirror_mode": {
    "name": "ipython",
    "version": 2
   },
   "file_extension": ".py",
   "mimetype": "text/x-python",
   "name": "python",
   "nbconvert_exporter": "python",
   "pygments_lexer": "ipython2",
   "version": "2.7.6"
  }
 },
 "nbformat": 4,
 "nbformat_minor": 0
}
