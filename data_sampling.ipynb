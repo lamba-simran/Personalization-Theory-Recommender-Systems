{
 "cells": [
  {
   "cell_type": "code",
   "execution_count": 171,
   "metadata": {
    "collapsed": true
   },
   "outputs": [],
   "source": [
    "import pandas as pd\n",
    "import gzip\n",
    "\n",
    "def parse(path):\n",
    "  g = gzip.open(path, 'rb')\n",
    "  for l in g:\n",
    "    yield eval(l)\n",
    "\n",
    "def getDF(path):\n",
    "  i = 0\n",
    "  df = {}\n",
    "  for d in parse(path):\n",
    "    df[i] = d\n",
    "    i += 1\n",
    "  return pd.DataFrame.from_dict(df, orient='index')\n",
    "\n",
    "reviews = getDF('C:/Users/tc2777/PycharmProjects/personalization-theory/reviews_Video_Games.json.gz')\n",
    "meta = getDF('C:/Users/tc2777/PycharmProjects/personalization-theory/meta_Video_Games.json.gz')"
   ]
  },
  {
   "cell_type": "code",
   "execution_count": 175,
   "metadata": {},
   "outputs": [
    {
     "name": "stdout",
     "output_type": "stream",
     "text": [
      "['reviewerName', 'summary', 'reviewTime', 'asin', 'overall', 'unixReviewTime', 'reviewText', 'reviewerID', 'helpful']\n['price', 'salesRank', 'categories', 'description', 'asin', 'related', 'imUrl', 'title', 'brand', 'cat']\n(50759, 10)\n"
     ]
    }
   ],
   "source": [
    "print(reviews.columns.tolist())\n",
    "print(meta.columns.tolist())\n",
    "print(meta.shape)"
   ]
  },
  {
   "cell_type": "code",
   "execution_count": 167,
   "metadata": {},
   "outputs": [
    {
     "name": "stdout",
     "output_type": "stream",
     "text": [
      "asin          B00000JFBR                   \ncategories    [[Video Games, More Systems]]\nName: 333, dtype: object\n"
     ]
    }
   ],
   "source": [
    "print(meta.loc[333, ['asin', 'categories']])"
   ]
  },
  {
   "cell_type": "code",
   "execution_count": 172,
   "metadata": {},
   "outputs": [],
   "source": [
    "def assignment(item):\n",
    "    wanted_categories = ['PC', 'Mac', 'More Systems', ' Nintendo', 'PlayStation', 'Sony', 'Video Games', 'Wii', 'Xbox']\n",
    "    counter = 0\n",
    "    for category in wanted_categories:\n",
    "        if category in item:\n",
    "            return wanted_categories[counter]\n",
    "        else:\n",
    "            counter += 1\n",
    "\n",
    "\n",
    "def assignment2(item):\n",
    "    wanted_categories = ['PC', 'Mac', 'More Systems', ' Nintendo', 'PlayStation', 'Sony', 'Video Games', 'Wii', 'Xbox']\n",
    "    counter = 0\n",
    "    category = ''\n",
    "    for category2 in wanted_categories:\n",
    "        if category2 in item:\n",
    "            category = category + \" \" + category2\n",
    "            counter += 1\n",
    "        else:\n",
    "            counter += 1\n",
    "    return category.strip()\n",
    "\n",
    "\n",
    "def pick_categories(row):\n",
    "    each_game_category = row['categories']\n",
    "    category = ''\n",
    "    if len(each_game_category) > 1:\n",
    "        for i in range(len(each_game_category)):\n",
    "            each_game = each_game_category[i]\n",
    "            category = category + \" \" + each_game[1]\n",
    "        return assignment2(category)\n",
    "    else:\n",
    "        if len(each_game_category[0]) == 1:\n",
    "            return assignment(each_game_category[0][0])\n",
    "        else:\n",
    "            return assignment(each_game_category[0][1])"
   ]
  },
  {
   "cell_type": "code",
   "execution_count": 173,
   "metadata": {},
   "outputs": [],
   "source": [
    "different_cat = meta.apply(lambda row: pick_categories(row), axis=1)\n",
    "meta['cat'] = different_cat\n",
    "meta = meta[meta['cat']!='']\n"
   ]
  },
  {
   "cell_type": "code",
   "execution_count": 176,
   "metadata": {},
   "outputs": [
    {
     "name": "stdout",
     "output_type": "stream",
     "text": [
      "col_0                                           count\ncat                                                  \nPC                                              15742\nMore Systems                                    11918\nXbox                                            4557 \nPlayStation                                     4225 \nWii                                             4013 \nNintendo                                        2140 \nSony                                            1893 \nPC Mac                                          781  \nMac                                             650  \nPC More Systems                                 501  \nVideo Games                                     416  \nNintendo PlayStation Wii Xbox                   232  \nMore Systems PlayStation                        124  \nMore Systems Wii                                91   \nMore Systems Xbox                               74   \nMore Systems PlayStation Wii Xbox               63   \nPlayStation Xbox                                54   \nMore Systems  Nintendo                          51   \nPC Mac More Systems                             50   \nPlayStation Sony                                32   \nPC PlayStation Xbox                             26   \nMore Systems Sony                               26   \nNintendo Wii                                    21   \nPC  Nintendo PlayStation Wii Xbox               20   \nPC Xbox                                         19   \nMore Systems  Nintendo PlayStation Wii Xbox     16   \nPlayStation Wii Xbox                            13   \nPC More Systems  Nintendo PlayStation Wii Xbox  12   \nPC Wii                                          11   \nMac More Systems                                11   \n...                                             ..   \nPC Mac PlayStation Xbox                         10   \nPC Mac More Systems PlayStation Wii Xbox        8    \nMac Xbox                                        6    \nPC  Nintendo                                    6    \nMore Systems PlayStation Wii                    5    \nNintendo Sony                                   4    \nMore Systems  Nintendo Sony                     4    \nPlayStation Wii                                 3    \nPC More Systems PlayStation                     3    \nPC More Systems Wii                             2    \nMore Systems PlayStation Sony                   2    \nNintendo PlayStation Wii                        2    \nMac Sony                                        2    \nPC Mac PlayStation                              2    \nPC More Systems PlayStation Wii Xbox            2    \nPC Mac Xbox                                     2    \nMore Systems  Nintendo Wii                      2    \nWii Xbox                                        1    \nMac PlayStation                                 1    \nSony Xbox                                       1    \nPC Mac More Systems PlayStation Xbox            1    \nPC Wii Xbox                                     1    \nPC Sony                                         1    \nPC More Systems PlayStation Xbox                1    \nPC Mac  Nintendo PlayStation Xbox               1    \nPC  Nintendo PlayStation Xbox                   1    \nNintendo Xbox                                   1    \nNintendo Wii Xbox                               1    \nMore Systems Wii Xbox                           1    \nPC Mac  Nintendo PlayStation Sony Xbox          1    \n\n[62 rows x 1 columns]\n"
     ]
    }
   ],
   "source": [
    "cat_table = pd.crosstab(index = meta['cat'], columns=\"count\")\n",
    "print(cat_table.sort_values(by='count', ascending=0))"
   ]
  },
  {
   "cell_type": "code",
   "execution_count": 159,
   "metadata": {},
   "outputs": [
    {
     "name": "stdout",
     "output_type": "stream",
     "text": [
      "col_0                                            count\ncat                                                   \n                                                 194  \n  Nintendo                                       2140 \n  Nintendo PlayStation Wii                       2    \n  Nintendo PlayStation Wii Xbox                  232  \n  Nintendo Sony                                  4    \n  Nintendo Wii                                   21   \n  Nintendo Wii Xbox                              1    \n  Nintendo Xbox                                  1    \n Mac                                             213  \n Mac More Systems                                11   \n Mac PlayStation                                 1    \n Mac Sony                                        2    \n Mac Xbox                                        6    \n More Systems                                    3521 \n More Systems  Nintendo                          51   \n More Systems  Nintendo PlayStation Wii Xbox     16   \n More Systems  Nintendo Sony                     4    \n More Systems  Nintendo Wii                      2    \n More Systems PlayStation                        124  \n More Systems PlayStation Sony                   2    \n More Systems PlayStation Wii                    5    \n More Systems PlayStation Wii Xbox               63   \n More Systems PlayStation Xbox                   10   \n More Systems Sony                               26   \n More Systems Wii                                91   \n More Systems Wii Xbox                           1    \n More Systems Xbox                               74   \n PC                                              7447 \n PC  Nintendo                                    6    \n PC  Nintendo PlayStation Wii Xbox               20   \n...                                             ..    \n PC More Systems                                 501  \n PC More Systems  Nintendo PlayStation Wii Xbox  12   \n PC More Systems PlayStation                     3    \n PC More Systems PlayStation Wii Xbox            2    \n PC More Systems PlayStation Xbox                1    \n PC More Systems Wii                             2    \n PC PlayStation                                  10   \n PC PlayStation Xbox                             26   \n PC Sony                                         1    \n PC Wii                                          11   \n PC Wii Xbox                                     1    \n PC Xbox                                         19   \n PlayStation                                     1120 \n PlayStation Sony                                32   \n PlayStation Wii                                 3    \n PlayStation Wii Xbox                            13   \n PlayStation Xbox                                54   \n Sony                                            560  \n Sony Xbox                                       1    \n Wii                                             1412 \n Wii Xbox                                        1    \n Xbox                                            860  \nMac                                              437  \nMore Systems                                     8397 \nPC                                               8295 \nPlayStation                                      3105 \nSony                                             1333 \nVideo Games                                      416  \nWii                                              2601 \nXbox                                             3697 \n\n[70 rows x 1 columns]\n"
     ]
    }
   ],
   "source": [
    ""
   ]
  },
  {
   "cell_type": "code",
   "execution_count": 131,
   "metadata": {
    "collapsed": false
   },
   "outputs": [
    {
     "data": {
      "text/plain": [
       "8996     http://ecx.images-amazon.com/images/I/51ZZ2M61W3L._SY300_.jpg  \n9156     http://ecx.images-amazon.com/images/I/51W64GN4DHL._SX300_.jpg  \n9198     http://ecx.images-amazon.com/images/I/51DWC1G8AXL._SX300_.jpg  \n9202     http://ecx.images-amazon.com/images/I/51FHM39GGTL._SX300_.jpg  \n10840    http://ecx.images-amazon.com/images/I/51T52JJMCBL._SX300_.jpg  \n16115    http://ecx.images-amazon.com/images/I/61yd%2B8iSpkL._SY300_.jpg\nName: imUrl, dtype: object"
      ]
     },
     "execution_count": 131,
     "metadata": {},
     "output_type": "execute_result"
    }
   ],
   "source": [
    "pd.set_option('display.max_colwidth', -1)\n",
    "meta2['imUrl'][meta2.cat.str.contains('Utilities Kids & Family PC') == True]"
   ]
  },
  {
   "cell_type": "code",
   "execution_count": null,
   "metadata": {},
   "outputs": [],
   "source": []
  }
 ],
 "metadata": {
  "kernelspec": {
   "display_name": "Python 2",
   "language": "python",
   "name": "python2"
  },
  "language_info": {
   "codemirror_mode": {
    "name": "ipython",
    "version": 2
   },
   "file_extension": ".py",
   "mimetype": "text/x-python",
   "name": "python",
   "nbconvert_exporter": "python",
   "pygments_lexer": "ipython2",
   "version": "2.7.6"
  }
 },
 "nbformat": 4,
 "nbformat_minor": 0
}
