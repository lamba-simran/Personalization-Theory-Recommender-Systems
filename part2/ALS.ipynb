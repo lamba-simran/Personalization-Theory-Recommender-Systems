{
 "cells": [
  {
   "cell_type": "code",
   "execution_count": 1,
   "metadata": {},
   "outputs": [
    {
     "name": "stdout",
     "output_type": "stream",
     "text": [
      "    AKM1MP6P0OYPR  0132793040  5.0  1365811200\n",
      "0  A2CX7LUOHB2NDG  0321732944  5.0  1341100800\n",
      "1  A2NWSAGRHCP8N5  0439886341  1.0  1367193600\n",
      "2  A2WNBOD3WNDNKT  0439886341  3.0  1374451200\n",
      "3  A1GI0U4ZRJA8WN  0439886341  1.0  1334707200\n",
      "4  A1QGNMC6O1VW39  0511189877  5.0  1397433600\n",
      "             user        item  rating\n",
      "0  A2CX7LUOHB2NDG  0321732944     5.0\n",
      "1  A2NWSAGRHCP8N5  0439886341     1.0\n",
      "2  A2WNBOD3WNDNKT  0439886341     3.0\n",
      "3  A1GI0U4ZRJA8WN  0439886341     1.0\n",
      "4  A1QGNMC6O1VW39  0511189877     5.0\n"
     ]
    }
   ],
   "source": [
    "import pandas as pd\n",
    "Electronics=pd.read_csv('ratings_Electronics.csv')\n",
    "print(Electronics.head())\n",
    "Electronics.columns=['user','item','rating','timestamp']\n",
    "#print(Electronics.head())\n",
    "del Electronics['timestamp']\n",
    "#print(Electronics.head())\n",
    "\n",
    "Videogames=pd.read_csv('ratings_Video_Games.csv')\n",
    "Videogames.columns=['user','item','rating','timestamp']\n",
    "#print(Videogames.head())\n",
    "del Videogames['timestamp']\n",
    "#print(Videogames.head())\n",
    "data=Electronics.append(Videogames)\n",
    "print(data.head())"
   ]
  },
  {
   "cell_type": "code",
   "execution_count": 2,
   "metadata": {},
   "outputs": [],
   "source": [
    "data.to_csv('Electronics_Video_Games.csv', index=False,header=False)"
   ]
  },
  {
   "cell_type": "code",
   "execution_count": 3,
   "metadata": {},
   "outputs": [],
   "source": [
    "import pyspark\n",
    "import pandas as pd\n",
    "import numpy as np\n",
    "from pyspark import SparkContext, since\n",
    "from pyspark.rdd import RDD\n",
    "import pyspark.sql\n",
    "\n",
    "from pyspark.mllib.recommendation import ALS\n",
    "import math"
   ]
  },
  {
   "cell_type": "code",
   "execution_count": 4,
   "metadata": {},
   "outputs": [],
   "source": [
    "import os\n",
    "from pyspark import SQLContext\n",
    "from pyspark import SparkContext \n",
    "from pyspark.sql import SQLContext \n",
    "sc = pyspark.SparkContext('local')\n",
    "sqlContext = SQLContext(sc)"
   ]
  },
  {
   "cell_type": "code",
   "execution_count": 5,
   "metadata": {},
   "outputs": [
    {
     "name": "stdout",
     "output_type": "stream",
     "text": [
      "+--------------+----------+------+\n",
      "|        userID|    itemID|rating|\n",
      "+--------------+----------+------+\n",
      "|A2CX7LUOHB2NDG|0321732944|   5.0|\n",
      "|A2NWSAGRHCP8N5|0439886341|   1.0|\n",
      "|A2WNBOD3WNDNKT|0439886341|   3.0|\n",
      "|A1GI0U4ZRJA8WN|0439886341|   1.0|\n",
      "|A1QGNMC6O1VW39|0511189877|   5.0|\n",
      "|A3J3BRHTDRFJ2G|0511189877|   2.0|\n",
      "|A2TY0BTJOTENPG|0511189877|   5.0|\n",
      "|A34ATBPOK6HCHY|0511189877|   5.0|\n",
      "| A89DO69P0XZ27|0511189877|   5.0|\n",
      "| AZYNQZ94U6VDB|0511189877|   5.0|\n",
      "|A1DA3W4GTFXP6O|0528881469|   5.0|\n",
      "|A29LPQQDG7LD5J|0528881469|   1.0|\n",
      "| AO94DHGC771SJ|0528881469|   5.0|\n",
      "| AMO214LNFCEI4|0528881469|   1.0|\n",
      "|A28B1G1MSJ6OO1|0528881469|   4.0|\n",
      "|A3N7T0DY83Y4IG|0528881469|   3.0|\n",
      "|A1H8PY3QHMQQA0|0528881469|   2.0|\n",
      "| A2CPBQ5W4OGBX|0528881469|   2.0|\n",
      "|A265MKAR2WEH3Y|0528881469|   4.0|\n",
      "|A37K02NKUIT68K|0528881469|   5.0|\n",
      "+--------------+----------+------+\n",
      "only showing top 20 rows\n",
      "\n"
     ]
    }
   ],
   "source": [
    "ratings = sc.textFile(\"/Users/drakaris/Downloads/Electronics_Video_Games.csv\").map(lambda line: line.split(\",\"))\n",
    "ratings = ratings.toDF(['userID','itemID','rating'])\n",
    "ratings.show()\n"
   ]
  },
  {
   "cell_type": "code",
   "execution_count": 8,
   "metadata": {},
   "outputs": [
    {
     "name": "stdout",
     "output_type": "stream",
     "text": [
      "+--------------+\n",
      "|        userID|\n",
      "+--------------+\n",
      "| AFS5ZGZ2M3ZGV|\n",
      "|A18FTRFQQ141CP|\n",
      "|A2GPNXFUUV51ZZ|\n",
      "|A3GF7FD6065R2H|\n",
      "|A16W4IDX9O70NU|\n",
      "| A4035XND6J8CS|\n",
      "|A15K7HV1XD6YWR|\n",
      "|A3FZ6D8NP9775P|\n",
      "| AA36DB7PNNJP2|\n",
      "|A3PDGWYC08DXF4|\n",
      "|A37JOONBIY5POU|\n",
      "|A29XPB4YTMCH7N|\n",
      "| AC8WXA642LUCJ|\n",
      "|A2S7O09DKY30TH|\n",
      "|A1G37NGYG23QG2|\n",
      "|  A44UKZE6XEV9|\n",
      "| AQJQP7RPKQGI9|\n",
      "|A3BDHHIUI08PXH|\n",
      "|A1LT2ILVBRDMN2|\n",
      "|A3SAN0HBKL4O51|\n",
      "+--------------+\n",
      "only showing top 20 rows\n",
      "\n"
     ]
    }
   ],
   "source": [
    "ratings1=ratings.select('userID').distinct()\n",
    "ratings1.show()"
   ]
  },
  {
   "cell_type": "code",
   "execution_count": 9,
   "metadata": {},
   "outputs": [
    {
     "name": "stdout",
     "output_type": "stream",
     "text": [
      "4719719\n"
     ]
    }
   ],
   "source": [
    "maxIndex = ratings1.count()\n",
    "print(maxIndex)"
   ]
  },
  {
   "cell_type": "code",
   "execution_count": 12,
   "metadata": {},
   "outputs": [],
   "source": [
    "from pyspark.sql.functions import regexp_extract\n",
    "from pyspark.sql.types import *\n",
    "#ratings_filename=\"/Users/drakaris/Downloads/Electronics_Video_Games.csv\"\n",
    "#ratings_df_schema = StructType([StructField('userID', IntegerType()),StructField('movieID', IntegerType()),StructField('rating', DoubleType())])\n",
    "from pyspark.sql import Row"
   ]
  },
  {
   "cell_type": "code",
   "execution_count": 13,
   "metadata": {},
   "outputs": [],
   "source": [
    "with_index = ratings1.rdd.zipWithIndex()\n",
    "distinct_val = with_index.map(lambda x: (Row(userID = x[0][0], id =x[1])))\n",
    "distinct_val = distinct_val.toDF()"
   ]
  },
  {
   "cell_type": "code",
   "execution_count": 14,
   "metadata": {},
   "outputs": [
    {
     "name": "stdout",
     "output_type": "stream",
     "text": [
      "+---+--------------+\n",
      "| id|        userID|\n",
      "+---+--------------+\n",
      "|  0| AFS5ZGZ2M3ZGV|\n",
      "|  1|A18FTRFQQ141CP|\n",
      "|  2|A2GPNXFUUV51ZZ|\n",
      "|  3|A3GF7FD6065R2H|\n",
      "|  4|A16W4IDX9O70NU|\n",
      "|  5| A4035XND6J8CS|\n",
      "|  6|A15K7HV1XD6YWR|\n",
      "|  7|A3FZ6D8NP9775P|\n",
      "|  8| AA36DB7PNNJP2|\n",
      "|  9|A3PDGWYC08DXF4|\n",
      "| 10|A37JOONBIY5POU|\n",
      "| 11|A29XPB4YTMCH7N|\n",
      "| 12| AC8WXA642LUCJ|\n",
      "| 13|A2S7O09DKY30TH|\n",
      "| 14|A1G37NGYG23QG2|\n",
      "| 15|  A44UKZE6XEV9|\n",
      "| 16| AQJQP7RPKQGI9|\n",
      "| 17|A3BDHHIUI08PXH|\n",
      "| 18|A1LT2ILVBRDMN2|\n",
      "| 19|A3SAN0HBKL4O51|\n",
      "+---+--------------+\n",
      "only showing top 20 rows\n",
      "\n"
     ]
    }
   ],
   "source": [
    "#ratings_df = sqlContext.read.format('com.databricks.spark.csv').options(header=True, inferSchema=False).schema(ratings_df_schema).load(ratings_filename)\n",
    "#ratings_df = raw_ratings_df.drop('Timestamp')\n",
    "#ratings_df.cache()\n",
    "distinct_val.show()"
   ]
  },
  {
   "cell_type": "code",
   "execution_count": 15,
   "metadata": {},
   "outputs": [],
   "source": [
    "joined_df = ratings.join(distinct_val, ['userID'], \"left\")\n",
    "rdd1 = joined_df.rdd"
   ]
  },
  {
   "cell_type": "code",
   "execution_count": 16,
   "metadata": {},
   "outputs": [
    {
     "data": {
      "text/plain": [
       "[Row(userID='A00229242RO5Y0ANY7P7H', itemID='B0015LURY2', rating='5.0', id=6027),\n",
       " Row(userID='A0031944XK4KVC58YJ6I', itemID='B003U8GCJC', rating='5.0', id=11107),\n",
       " Row(userID='A0037940AYP2FFFVL9ZX', itemID='B0053QW61M', rating='5.0', id=13811),\n",
       " Row(userID='A0061198154UGJDK69CYW', itemID='B0015AARJI', rating='5.0', id=5960),\n",
       " Row(userID='A0061198154UGJDK69CYW', itemID='B0018TCB0O', rating='4.0', id=5960),\n",
       " Row(userID='A0061198154UGJDK69CYW', itemID='B001S35Y5E', rating='5.0', id=5960),\n",
       " Row(userID='A0061198154UGJDK69CYW', itemID='B0015AARJI', rating='5.0', id=5960),\n",
       " Row(userID='A0061198154UGJDK69CYW', itemID='B007WRGNQE', rating='4.0', id=5960),\n",
       " Row(userID='A0070539117SQ13VTMHY1', itemID='B0018DQYQ2', rating='5.0', id=6233),\n",
       " Row(userID='A0070539117SQ13VTMHY1', itemID='B0086SDU3M', rating='4.0', id=6233)]"
      ]
     },
     "execution_count": 16,
     "metadata": {},
     "output_type": "execute_result"
    }
   ],
   "source": [
    "rdd1.take(10)"
   ]
  },
  {
   "cell_type": "code",
   "execution_count": 17,
   "metadata": {},
   "outputs": [
    {
     "name": "stdout",
     "output_type": "stream",
     "text": [
      "+--------------------+----------+------+-----+\n",
      "|              userID|    itemID|rating|   id|\n",
      "+--------------------+----------+------+-----+\n",
      "|A00229242RO5Y0ANY...|B0015LURY2|   5.0| 6027|\n",
      "|A0031944XK4KVC58YJ6I|B003U8GCJC|   5.0|11107|\n",
      "|A0037940AYP2FFFVL9ZX|B0053QW61M|   5.0|13811|\n",
      "|A0061198154UGJDK6...|B0015AARJI|   5.0| 5960|\n",
      "|A0061198154UGJDK6...|B0018TCB0O|   4.0| 5960|\n",
      "|A0061198154UGJDK6...|B001S35Y5E|   5.0| 5960|\n",
      "|A0061198154UGJDK6...|B0015AARJI|   5.0| 5960|\n",
      "|A0061198154UGJDK6...|B007WRGNQE|   4.0| 5960|\n",
      "|A0070539117SQ13VT...|B0018DQYQ2|   5.0| 6233|\n",
      "|A0070539117SQ13VT...|B0086SDU3M|   4.0| 6233|\n",
      "|A00798031DT7GARGO...|B008U4PLLG|   4.0|17692|\n",
      "|A00916831I6AWOTPR...|B00F02UT8G|   1.0|20383|\n",
      "|A0232309XTWAG6FEGW93|B003C1FC7K|   5.0|10100|\n",
      "|A0232309XTWAG6FEGW93|B0081RQO1S|   1.0|10100|\n",
      "|A0233237HQD2KF9H08SE|B002TLTIS8|   2.0| 9149|\n",
      "|A02458053VE82ICMG...|B004S50WZG|   2.0|13161|\n",
      "|A02680541GF3IVW82...|B00BUCLVZU|   5.0|19532|\n",
      "|A029883694JY0A2TISYL|B00415A5QY|   5.0|11571|\n",
      "|A03032083BKNO315A...|B007R5YDYA|   5.0|16547|\n",
      "|A0318890QDR1XYWX15NR|B00E3L4R3I|   5.0|20183|\n",
      "+--------------------+----------+------+-----+\n",
      "only showing top 20 rows\n",
      "\n"
     ]
    }
   ],
   "source": [
    "joined_df.show()"
   ]
  },
  {
   "cell_type": "code",
   "execution_count": 18,
   "metadata": {},
   "outputs": [
    {
     "name": "stdout",
     "output_type": "stream",
     "text": [
      "+----------+\n",
      "|    itemID|\n",
      "+----------+\n",
      "|7793224531|\n",
      "|9966694242|\n",
      "|9967222247|\n",
      "|9985975413|\n",
      "|9990950369|\n",
      "|B000000O3J|\n",
      "|B00000J025|\n",
      "|B00000J0IV|\n",
      "|B00000J1PX|\n",
      "|B00000J3Q1|\n",
      "|B00000J3SV|\n",
      "|B00000J47G|\n",
      "|B00000JBK6|\n",
      "|B00001W0DC|\n",
      "|B00002S73F|\n",
      "|B00003CWGY|\n",
      "|B00003OPEV|\n",
      "|B00004SC3R|\n",
      "|B00004TL5X|\n",
      "|B00004U0EB|\n",
      "+----------+\n",
      "only showing top 20 rows\n",
      "\n"
     ]
    }
   ],
   "source": [
    "ratings2=ratings.select('itemID').distinct()\n",
    "ratings2.show()"
   ]
  },
  {
   "cell_type": "code",
   "execution_count": 19,
   "metadata": {},
   "outputs": [
    {
     "name": "stdout",
     "output_type": "stream",
     "text": [
      "525966\n"
     ]
    }
   ],
   "source": [
    "maxIndex = ratings2.count()\n",
    "print(maxIndex)"
   ]
  },
  {
   "cell_type": "code",
   "execution_count": 20,
   "metadata": {},
   "outputs": [],
   "source": [
    "with_index = ratings2.rdd.zipWithIndex()\n",
    "distinct_val1 = with_index.map(lambda x: (Row(itemID = x[0][0], id2 =x[1])))\n",
    "distinct_val1 = distinct_val1.toDF()\n"
   ]
  },
  {
   "cell_type": "code",
   "execution_count": 21,
   "metadata": {},
   "outputs": [
    {
     "name": "stdout",
     "output_type": "stream",
     "text": [
      "+---+----------+\n",
      "|id2|    itemID|\n",
      "+---+----------+\n",
      "|  0|7793224531|\n",
      "|  1|9966694242|\n",
      "|  2|9967222247|\n",
      "|  3|9985975413|\n",
      "|  4|9990950369|\n",
      "|  5|B000000O3J|\n",
      "|  6|B00000J025|\n",
      "|  7|B00000J0IV|\n",
      "|  8|B00000J1PX|\n",
      "|  9|B00000J3Q1|\n",
      "| 10|B00000J3SV|\n",
      "| 11|B00000J47G|\n",
      "| 12|B00000JBK6|\n",
      "| 13|B00001W0DC|\n",
      "| 14|B00002S73F|\n",
      "| 15|B00003CWGY|\n",
      "| 16|B00003OPEV|\n",
      "| 17|B00004SC3R|\n",
      "| 18|B00004TL5X|\n",
      "| 19|B00004U0EB|\n",
      "+---+----------+\n",
      "only showing top 20 rows\n",
      "\n"
     ]
    }
   ],
   "source": [
    "distinct_val1.show()"
   ]
  },
  {
   "cell_type": "code",
   "execution_count": 22,
   "metadata": {},
   "outputs": [],
   "source": [
    "joined_df1 = joined_df.join(distinct_val1, ['itemID'], \"left\")\n",
    "rdd2 = joined_df1.rdd"
   ]
  },
  {
   "cell_type": "code",
   "execution_count": 23,
   "metadata": {},
   "outputs": [
    {
     "data": {
      "text/plain": [
       "[Row(itemID='0439394422', userID='A1TL721YECDIM8', rating='3.0', id=1055480, id2=2485),\n",
       " Row(itemID='0439394422', userID='APDCEJMFDO2YT', rating='5.0', id=3305480, id2=2485),\n",
       " Row(itemID='7793224531', userID='AO4Q0RPYN3Y1N', rating='5.0', id=1299050, id2=0),\n",
       " Row(itemID='7793224531', userID='A2CK2QW8OUZARL', rating='5.0', id=1889139, id2=0),\n",
       " Row(itemID='7793224531', userID='A2CZG9I6ERMOFA', rating='4.0', id=2148308, id2=0),\n",
       " Row(itemID='7793224531', userID='AO8QRF4F2XXS1', rating='5.0', id=2290394, id2=0),\n",
       " Row(itemID='7793224531', userID='A4NLBWDS2USI', rating='5.0', id=2808467, id2=0),\n",
       " Row(itemID='7793224531', userID='A2QE3HV9GW264C', rating='5.0', id=2926918, id2=0),\n",
       " Row(itemID='7793224531', userID='ACNP9LJ391F3L', rating='4.0', id=3068052, id2=0),\n",
       " Row(itemID='7793224531', userID='AN3CN5M3U865J', rating='4.0', id=4175374, id2=0)]"
      ]
     },
     "execution_count": 23,
     "metadata": {},
     "output_type": "execute_result"
    }
   ],
   "source": [
    "rdd2.take(10)"
   ]
  },
  {
   "cell_type": "code",
   "execution_count": 24,
   "metadata": {},
   "outputs": [
    {
     "name": "stdout",
     "output_type": "stream",
     "text": [
      "+----------+--------------+------+-------+----+\n",
      "|    itemID|        userID|rating|     id| id2|\n",
      "+----------+--------------+------+-------+----+\n",
      "|0439394422|A1TL721YECDIM8|   3.0|1055480|2485|\n",
      "|0439394422| APDCEJMFDO2YT|   5.0|3305480|2485|\n",
      "|7793224531| AO4Q0RPYN3Y1N|   5.0|1299050|   0|\n",
      "|7793224531|A2CK2QW8OUZARL|   5.0|1889139|   0|\n",
      "|7793224531|A2CZG9I6ERMOFA|   4.0|2148308|   0|\n",
      "|7793224531| AO8QRF4F2XXS1|   5.0|2290394|   0|\n",
      "|7793224531|  A4NLBWDS2USI|   5.0|2808467|   0|\n",
      "|7793224531|A2QE3HV9GW264C|   5.0|2926918|   0|\n",
      "|7793224531| ACNP9LJ391F3L|   4.0|3068052|   0|\n",
      "|7793224531| AN3CN5M3U865J|   4.0|4175374|   0|\n",
      "|9861064222|A1W80QTUJOH61Y|   4.0| 186478|2486|\n",
      "|9966694242|A1JSPRHP0LCC0J|   3.0| 306580|   1|\n",
      "|9966694242|A28IBOLVCSQRLQ|   5.0| 330139|   1|\n",
      "|9966694242|A3A5A57U9FH8BC|   5.0|3138622|   1|\n",
      "|9967222247|A3G7814OO44GZ5|   5.0|3397460|   2|\n",
      "|9985975413|A16JMK7V2IWZ10|   1.0|1959850|   3|\n",
      "|9985975413| ALWS3UQJ7ETWW|   1.0|2030495|   3|\n",
      "|9985975413|A3S3NT5VS54FC8|   5.0|3679723|   3|\n",
      "|9985975413| A9E1JW8NZSSXJ|   5.0|3844869|   3|\n",
      "|9985975413|A1CWJ7WFM30C0U|   5.0|4293552|   3|\n",
      "+----------+--------------+------+-------+----+\n",
      "only showing top 20 rows\n",
      "\n"
     ]
    }
   ],
   "source": [
    "joined_df1.show()"
   ]
  },
  {
   "cell_type": "code",
   "execution_count": 25,
   "metadata": {},
   "outputs": [],
   "source": [
    "from pyspark.ml.recommendation import ALS\n",
    "from pyspark.ml.evaluation import RegressionEvaluator\n",
    "from pyspark.ml.tuning import TrainValidationSplit, ParamGridBuilder\n",
    "\n",
    "\n",
    "#als=ALS(userCol=\"userID\",itemCol=\"movieID\", ratingCol=\"rating\", coldStartStrategy=\"drop\",nonnegative=True)"
   ]
  },
  {
   "cell_type": "code",
   "execution_count": 26,
   "metadata": {},
   "outputs": [],
   "source": [
    "joined_df2=joined_df1.drop('itemID')\n",
    "#joined_df2.show()"
   ]
  },
  {
   "cell_type": "code",
   "execution_count": 27,
   "metadata": {},
   "outputs": [
    {
     "name": "stdout",
     "output_type": "stream",
     "text": [
      "+------+-------+----+\n",
      "|rating|     id| id2|\n",
      "+------+-------+----+\n",
      "|   3.0|1055480|2485|\n",
      "|   5.0|3305480|2485|\n",
      "|   5.0|1299050|   0|\n",
      "|   5.0|1889139|   0|\n",
      "|   4.0|2148308|   0|\n",
      "|   5.0|2290394|   0|\n",
      "|   5.0|2808467|   0|\n",
      "|   5.0|2926918|   0|\n",
      "|   4.0|3068052|   0|\n",
      "|   4.0|4175374|   0|\n",
      "|   4.0| 186478|2486|\n",
      "|   3.0| 306580|   1|\n",
      "|   5.0| 330139|   1|\n",
      "|   5.0|3138622|   1|\n",
      "|   5.0|3397460|   2|\n",
      "|   1.0|1959850|   3|\n",
      "|   1.0|2030495|   3|\n",
      "|   5.0|3679723|   3|\n",
      "|   5.0|3844869|   3|\n",
      "|   5.0|4293552|   3|\n",
      "+------+-------+----+\n",
      "only showing top 20 rows\n",
      "\n"
     ]
    }
   ],
   "source": [
    "joined_df3=joined_df2.drop('userID')\n",
    "joined_df3.show()"
   ]
  },
  {
   "cell_type": "code",
   "execution_count": 28,
   "metadata": {},
   "outputs": [
    {
     "name": "stdout",
     "output_type": "stream",
     "text": [
      "+-------+----+------+\n",
      "|     id| id2|rating|\n",
      "+-------+----+------+\n",
      "|1055480|2485|   3.0|\n",
      "|3305480|2485|   5.0|\n",
      "|1299050|   0|   5.0|\n",
      "|1889139|   0|   5.0|\n",
      "|2148308|   0|   4.0|\n",
      "|2290394|   0|   5.0|\n",
      "|2808467|   0|   5.0|\n",
      "|2926918|   0|   5.0|\n",
      "|3068052|   0|   4.0|\n",
      "|4175374|   0|   4.0|\n",
      "| 186478|2486|   4.0|\n",
      "| 306580|   1|   3.0|\n",
      "| 330139|   1|   5.0|\n",
      "|3138622|   1|   5.0|\n",
      "|3397460|   2|   5.0|\n",
      "|1959850|   3|   1.0|\n",
      "|2030495|   3|   1.0|\n",
      "|3679723|   3|   5.0|\n",
      "|3844869|   3|   5.0|\n",
      "|4293552|   3|   5.0|\n",
      "+-------+----+------+\n",
      "only showing top 20 rows\n",
      "\n"
     ]
    }
   ],
   "source": [
    "df=joined_df3.select(\"id\",\"id2\",\"rating\")\n",
    "df.show()\n"
   ]
  },
  {
   "cell_type": "code",
   "execution_count": 29,
   "metadata": {},
   "outputs": [],
   "source": [
    "#df.save('/Users/drakaris/Downloads/Electronics_Video_Games.csv', 'com.databricks.spark.csv')"
   ]
  },
  {
   "cell_type": "code",
   "execution_count": 30,
   "metadata": {},
   "outputs": [],
   "source": [
    "from pyspark.mllib.recommendation\\\n",
    "    import ALS,MatrixFactorizationModel, Rating\n",
    "    \n",
    "ratings = df.rdd.map(lambda x: Rating(int(x[0]),\\\n",
    "    int(x[1]), float(x[2])))    \n",
    "\n",
    "train, test = ratings.randomSplit([0.8,0.2])\n",
    "\n",
    "#print(train.count()) #70,005\n",
    "#print(test.count()) #29,995\n",
    "\n"
   ]
  },
  {
   "cell_type": "code",
   "execution_count": 31,
   "metadata": {},
   "outputs": [],
   "source": [
    "#Need to cache the data to speed up training\n",
    "train.cache()\n",
    "#test.cache()\n",
    "\n",
    "#Setting up the parameters for ALS\n",
    "rank = 10 # Latent Factors to be made\n",
    "numIterations = 15# Times to repeat process\n",
    "regParam = 0.35\n",
    "#Create the model on the training data\n",
    "model = ALS.train(train, rank, numIterations, regParam)"
   ]
  },
  {
   "cell_type": "code",
   "execution_count": 32,
   "metadata": {},
   "outputs": [
    {
     "data": {
      "text/plain": [
       "[Rating(user=1816778, product=242, rating=4.010772855263712),\n",
       " Rating(user=3291726, product=242, rating=3.821920122836679),\n",
       " Rating(user=4676007, product=242, rating=3.819969438525259),\n",
       " Rating(user=3987681, product=242, rating=3.81958860520763),\n",
       " Rating(user=4388831, product=242, rating=3.78509659808541),\n",
       " Rating(user=4592615, product=242, rating=3.759661045225994),\n",
       " Rating(user=3786721, product=242, rating=3.734759001605874),\n",
       " Rating(user=3251477, product=242, rating=3.7278358132258993),\n",
       " Rating(user=89620, product=242, rating=3.7278358132258993),\n",
       " Rating(user=2042403, product=242, rating=3.7082852524575536)]"
      ]
     },
     "execution_count": 32,
     "metadata": {},
     "output_type": "execute_result"
    }
   ],
   "source": [
    "model.recommendUsers(242,10)"
   ]
  },
  {
   "cell_type": "code",
   "execution_count": 33,
   "metadata": {},
   "outputs": [
    {
     "data": {
      "text/plain": [
       "[Rating(user=196, product=285587, rating=3.664415613437074),\n",
       " Rating(user=196, product=12809, rating=3.6290508686930574),\n",
       " Rating(user=196, product=510741, rating=3.6117366264537427),\n",
       " Rating(user=196, product=111476, rating=3.608727071040589),\n",
       " Rating(user=196, product=5169, rating=3.605286321389846),\n",
       " Rating(user=196, product=463202, rating=3.603029497663355),\n",
       " Rating(user=196, product=80821, rating=3.602345008093928),\n",
       " Rating(user=196, product=33225, rating=3.602345008093928),\n",
       " Rating(user=196, product=389491, rating=3.544081784420957),\n",
       " Rating(user=196, product=52564, rating=3.528074537701918)]"
      ]
     },
     "execution_count": 33,
     "metadata": {},
     "output_type": "execute_result"
    }
   ],
   "source": [
    "# For User Y Find N Products to Promote\n",
    "model.recommendProducts(196,10)"
   ]
  },
  {
   "cell_type": "code",
   "execution_count": 34,
   "metadata": {},
   "outputs": [
    {
     "data": {
      "text/plain": [
       "0.8282897349032887"
      ]
     },
     "execution_count": 34,
     "metadata": {},
     "output_type": "execute_result"
    }
   ],
   "source": [
    "#Predict Single Product for Single User\n",
    "model.predict(196, 242)"
   ]
  },
  {
   "cell_type": "code",
   "execution_count": 35,
   "metadata": {},
   "outputs": [],
   "source": [
    "# Predict Multi Users and Multi Products\n",
    "# Pre-Processing\n",
    "pred_input = train.map(lambda x:(x[0],x[1]))   "
   ]
  },
  {
   "cell_type": "code",
   "execution_count": 36,
   "metadata": {},
   "outputs": [],
   "source": [
    "# Lots of Predictions\n",
    "#Returns Ratings(user, item, prediction)\n",
    "pred = model.predictAll(pred_input) "
   ]
  },
  {
   "cell_type": "code",
   "execution_count": 37,
   "metadata": {},
   "outputs": [],
   "source": [
    "true_reorg = train.map(lambda x:((x[0],x[1]), x[2]))\n",
    "pred_reorg = pred.map(lambda x:((x[0],x[1]), x[2]))\n",
    "\n",
    "#Do the actual join\n",
    "true_pred = true_reorg.join(pred_reorg)\n",
    "\n",
    "#Need to be able to square root the Mean-Squared Error\n",
    "from math import sqrt\n",
    "\n",
    "MSE = true_pred.map(lambda r: (r[1][0] - r[1][1])**2).mean()\n",
    "RMSE = sqrt(MSE)#Results in 0.7629908117414474"
   ]
  },
  {
   "cell_type": "code",
   "execution_count": 38,
   "metadata": {},
   "outputs": [
    {
     "name": "stdout",
     "output_type": "stream",
     "text": [
      "0.5608492447656984\n"
     ]
    }
   ],
   "source": [
    "print(RMSE)"
   ]
  },
  {
   "cell_type": "code",
   "execution_count": 39,
   "metadata": {},
   "outputs": [],
   "source": [
    "#Test Set Evaluation\n",
    "#More dense, but nothing we haven't done before\n",
    "test_input = test.map(lambda x:(x[0],x[1])) \n",
    "pred_test = model.predictAll(test_input)\n",
    "test_reorg = test.map(lambda x:((x[0],x[1]), x[2]))\n",
    "pred_reorg = pred_test.map(lambda x:((x[0],x[1]), x[2]))\n",
    "test_pred = test_reorg.join(pred_reorg)\n",
    "test_MSE = test_pred.map(lambda r: (r[1][0] - r[1][1])**2).mean()\n",
    "test_RMSE = sqrt(test_MSE)#1.0145549956596238"
   ]
  },
  {
   "cell_type": "code",
   "execution_count": 40,
   "metadata": {},
   "outputs": [
    {
     "name": "stdout",
     "output_type": "stream",
     "text": [
      "1.6515262287005992\n"
     ]
    }
   ],
   "source": [
    "print(test_RMSE)"
   ]
  },
  {
   "cell_type": "code",
   "execution_count": 141,
   "metadata": {},
   "outputs": [],
   "source": [
    "#getting 0.1% of all the users to reccomend them top 3 items and calculate coverage\n",
    "user_only=train.toDF()\n",
    "users, smthelse=user_only.randomSplit([0.001,0.999])"
   ]
  },
  {
   "cell_type": "code",
   "execution_count": 142,
   "metadata": {},
   "outputs": [],
   "source": [
    "userlist=users.toPandas() "
   ]
  },
  {
   "cell_type": "code",
   "execution_count": 147,
   "metadata": {},
   "outputs": [
    {
     "name": "stdout",
     "output_type": [],
     
   ],
   "source": [
    "i=0\n",
    "#reccomend each user 3 items\n",
    "for row in userlist['user']: \n",
    "    print(i)\n",
    "    a=model.recommendProducts(row,3)\n",
    "    top_k_list.append(a)\n",
    "    i=i+1"
   ]
  },
  {
   "cell_type": "code",
   "execution_count": 190,
   "metadata": {},
   "outputs": [],
   "source": [
    "somelist=[]\n",
    "recommended_number = 0\n",
    "#getting total number of reccomended items\n",
    "for row in range(1, len(top_k_list)): \n",
    "    #print(row)\n",
    "    recommended_number += len(top_k_list[row])\n",
    "    for a in range(0, len(top_k_list[row])):\n",
    "        somelist.append(top_k_list[row][a].product)\n",
    "        #print(len(top_k_list[row]))\n",
    "   \n",
    "    \n",
    "    "
   ]
  },
  {
   "cell_type": "code",
   "execution_count": 188,
   "metadata": {},
   "outputs": [],
   "source": [
    "myset = set(somelist)"
   ]
  },
  {
   "cell_type": "code",
   "execution_count": 193,
   "metadata": {},
   "outputs": [
    {
     "data": {
      "text/plain": [
       "0.03848125491268241"
      ]
     },
     "execution_count": 193,
     "metadata": {},
     "output_type": "execute_result"
    }
   ],
   "source": [
    "len(myset)/recommended_number"
   ]
  }
 ],
 "metadata": {
  "kernelspec": {
   "display_name": "Python 3",
   "language": "python",
   "name": "python3"
  },
  "language_info": {
   "codemirror_mode": {
    "name": "ipython",
    "version": 3
   },
   "file_extension": ".py",
   "mimetype": "text/x-python",
   "name": "python",
   "nbconvert_exporter": "python",
   "pygments_lexer": "ipython3",
   "version": "3.5.4"
  }
 },
 "nbformat": 4,
 "nbformat_minor": 2
}
